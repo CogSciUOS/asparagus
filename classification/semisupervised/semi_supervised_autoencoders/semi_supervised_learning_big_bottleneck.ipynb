{
 "cells": [
  {
   "cell_type": "code",
   "execution_count": 1,
   "metadata": {},
   "outputs": [],
   "source": [
    "import numpy as np\n",
    "import pandas as pd\n",
    "from sklearn.model_selection import train_test_split\n",
    "import matplotlib.pyplot as plt"
   ]
  },
  {
   "cell_type": "code",
   "execution_count": 2,
   "metadata": {},
   "outputs": [
    {
     "name": "stderr",
     "output_type": "stream",
     "text": [
      "Using TensorFlow backend.\n"
     ]
    }
   ],
   "source": [
    "from keras.layers import Dense, Input\n",
    "from keras.layers import Conv2D, Flatten, Lambda\n",
    "from keras.layers import Reshape, Conv2DTranspose\n",
    "from keras.models import Model\n",
    "from keras.datasets import mnist\n",
    "from keras.losses import mse, binary_crossentropy\n",
    "from keras.layers import Lambda, Input, Dense, Conv2D, Flatten, Dropout, MaxPooling2D, Deconvolution2D, Reshape, Concatenate\n",
    "import keras\n",
    "\n",
    "from keras import backend as K\n",
    "import tensorflow as tf\n",
    "import numpy as np\n",
    "import matplotlib.pyplot as plt\n",
    "import argparse\n",
    "import os"
   ]
  },
  {
   "cell_type": "code",
   "execution_count": 3,
   "metadata": {},
   "outputs": [],
   "source": [
    "import pickle"
   ]
  },
  {
   "cell_type": "code",
   "execution_count": 4,
   "metadata": {},
   "outputs": [],
   "source": [
    "tf.compat.v1.disable_eager_execution()"
   ]
  },
  {
   "cell_type": "code",
   "execution_count": 5,
   "metadata": {},
   "outputs": [],
   "source": [
    "batch_size = 128"
   ]
  },
  {
   "cell_type": "code",
   "execution_count": 6,
   "metadata": {},
   "outputs": [],
   "source": [
    "#Load labeled data and divide into training and test sets\n",
    "labels = pd.read_csv(\"labels.csv\",index_col=0)\n",
    "selected_labels = [\"is_bended\",\"is_violet\",\"has_rost_body\",\"short\",\"thick\",\"thin\"]\n",
    "labels = labels[selected_labels].values\n",
    "\n",
    "images = np.load(\"palette_as_rgb.npy\")\n",
    "images = images[::3]\n",
    "\n",
    "#Padding is required as the net does not work with arbitrary shapes due to problems with reconstructing the same\n",
    "#shape in deconvolution layers (Deconvolution increases size by factor 2 or 3 or .. i.e. by an integer factor)\n",
    "images = np.pad(images[:,:], pad_width=((0,0),(1,1),(0,0),(0,0)), mode='constant', constant_values=0)\n",
    "x_train, x_test, y_train, y_test = train_test_split(images, labels, test_size=0.2, random_state=42)\n",
    "x_train = x_train.astype('float32') / 255\n",
    "x_test = x_test.astype('float32') / 255"
   ]
  },
  {
   "cell_type": "code",
   "execution_count": 7,
   "metadata": {},
   "outputs": [],
   "source": [
    "images = None#free some memory"
   ]
  },
  {
   "cell_type": "code",
   "execution_count": 8,
   "metadata": {},
   "outputs": [],
   "source": [
    "# Load unlabeled and generate array of nan as labels (analogously to x_train, y_train)\n",
    "unlabeled = np.load(\"unlabeled.npy\")\n",
    "unlabeled = unlabeled[::3]\n",
    "unlabeled = np.pad(unlabeled[:,:], pad_width=((0,0),(1,1),(0,0),(0,0)), mode='constant', constant_values=0)\n",
    "unlabeled = unlabeled.astype('float32') / 255\n",
    "\n",
    "unlabeled_labels_shape = [len(unlabeled)]\n",
    "unlabeled_labels_shape.extend(list(y_train.shape)[1:])\n",
    "unlabeled_labels = np.ndarray(unlabeled_labels_shape)\n",
    "unlabeled_labels.fill(-1)"
   ]
  },
  {
   "cell_type": "code",
   "execution_count": 9,
   "metadata": {},
   "outputs": [],
   "source": [
    "def interlace_unlabeled_batches(x_train,y_train,unlabeled,unlabeled_labels):\n",
    "    # Divide into batches\n",
    "    x_train = np.split(x_train, [batch_size+x*batch_size for x in range(len(x_train)//batch_size)])\n",
    "    x_train = x_train[:-1]#discard incomplete batch\n",
    "    y_train = np.split(y_train, [batch_size+x*batch_size for x in range(len(y_train)//batch_size)])\n",
    "    y_train = y_train[:-1]#discard incomplete batch\n",
    "\n",
    "    # Divide into batches\n",
    "    unlabeled = np.split(unlabeled, [batch_size+x*batch_size for x in range(len(unlabeled)//batch_size)])\n",
    "    unlabeled = unlabeled[:-1]#discard incomplete batch\n",
    "    unlabeled_labels = np.split(unlabeled_labels, [batch_size+x*batch_size for x in range(len(unlabeled_labels)//batch_size)])\n",
    "    unlabeled_labels = unlabeled_labels[:-1]#discard incomplete batch\n",
    "\n",
    "    # Zip them [with_label_batch, without_label_batch, with_label_batch ...]\n",
    "    min_length = np.min([len(unlabeled_labels),len(y_train)])\n",
    "    x_train1 = np.array(list(zip(unlabeled[:min_length],x_train[:min_length])))\n",
    "    y_train1 = np.array(list(zip(unlabeled_labels[:min_length],y_train[:min_length])))\n",
    "\n",
    "    #Reshape such that there are batch_size times unlabeled examples then batch_time_size labeled examples etc.\n",
    "    y_train1 = y_train1.reshape([y_train1.shape[0]*y_train1.shape[1],y_train1.shape[2],y_train1.shape[3]])\n",
    "    y_train1 = y_train1.reshape([y_train1.shape[0]*y_train1.shape[1],y_train1.shape[2]])\n",
    "\n",
    "    new_shape = [x_train1.shape[0]*x_train1.shape[1]]#Merge first two dimensions\n",
    "    new_shape.extend(list(x_train1.shape)[2:])\n",
    "    x_train1 = x_train1.reshape(new_shape)\n",
    "    new_shape = [x_train1.shape[0]*x_train1.shape[1]]#Merge first two dimensions\n",
    "    new_shape.extend(list(x_train1.shape)[2:])\n",
    "    x_train1 = x_train1.reshape(new_shape)\n",
    "    return x_train1, y_train1"
   ]
  },
  {
   "cell_type": "code",
   "execution_count": 10,
   "metadata": {},
   "outputs": [],
   "source": [
    "x_train, y_train = interlace_unlabeled_batches(x_train,y_train,unlabeled,unlabeled_labels)"
   ]
  },
  {
   "cell_type": "code",
   "execution_count": 11,
   "metadata": {},
   "outputs": [],
   "source": [
    "# Shapes\n",
    "input_shape = np.array(x_train.shape)\n",
    "output_shape = input_shape\n",
    "shape = np.zeros(4, dtype=np.int32)\n",
    "shape[0] = -1\n",
    "shape[-1] = 32\n",
    "shape[1:3] = (output_shape[1:3]//2)//2#Such that after application of filters the desired output shape is achieved \n",
    "input_shape = input_shape[1:]\n",
    "output_shape = output_shape[1:]\n",
    "\n",
    "labels_shape = y_train.shape[1]\n",
    "\n",
    "# network parameters\n",
    "kernel_size = 3\n",
    "filters = 16\n",
    "latent_dim = 64\n",
    "bypass_dim = 2"
   ]
  },
  {
   "cell_type": "code",
   "execution_count": 12,
   "metadata": {},
   "outputs": [],
   "source": [
    "# reparameterization trick, instead of sampling from Q(z|X), sample eps = N(0,I), then z = z_mean + sqrt(var)*eps\n",
    "def sampling(args):\n",
    "    \"\"\"Reparameterization trick by sampling fr an isotropic unit Gaussian.\n",
    "\n",
    "    # Arguments\n",
    "        args (tensor): mean and log of variance of Q(z|X)\n",
    "\n",
    "    # Returns\n",
    "        z (tensor): sampled latent vector\n",
    "    \"\"\"\n",
    "    z_mean, z_log_var = args\n",
    "    batch = K.shape(z_mean)[0]\n",
    "    dim = K.int_shape(z_mean)[1]\n",
    "    # by default, random_normal has mean=0 and std=1.0\n",
    "    epsilon = K.random_normal(shape=(batch, dim))\n",
    "    return z_mean + K.exp(0.5 * z_log_var) * epsilon"
   ]
  },
  {
   "cell_type": "code",
   "execution_count": 13,
   "metadata": {},
   "outputs": [
    {
     "name": "stdout",
     "output_type": "stream",
     "text": [
      "WARNING:tensorflow:From /home/elerator/anaconda3/lib/python3.7/site-packages/tensorflow_core/python/ops/resource_variable_ops.py:1635: calling BaseResourceVariable.__init__ (from tensorflow.python.ops.resource_variable_ops) with constraint is deprecated and will be removed in a future version.\n",
      "Instructions for updating:\n",
      "If using Keras pass *_constraint arguments to layers.\n",
      "Model: \"encoder\"\n",
      "__________________________________________________________________________________________________\n",
      "Layer (type)                    Output Shape         Param #     Connected to                     \n",
      "==================================================================================================\n",
      "encoder_input (InputLayer)      (None, 136, 36, 3)   0                                            \n",
      "__________________________________________________________________________________________________\n",
      "conv2d_1 (Conv2D)               (None, 135, 35, 32)  416         encoder_input[0][0]              \n",
      "__________________________________________________________________________________________________\n",
      "conv2d_2 (Conv2D)               (None, 133, 33, 32)  9248        conv2d_1[0][0]                   \n",
      "__________________________________________________________________________________________________\n",
      "max_pooling2d_1 (MaxPooling2D)  (None, 66, 16, 32)   0           conv2d_2[0][0]                   \n",
      "__________________________________________________________________________________________________\n",
      "conv2d_3 (Conv2D)               (None, 64, 14, 32)   9248        max_pooling2d_1[0][0]            \n",
      "__________________________________________________________________________________________________\n",
      "max_pooling2d_2 (MaxPooling2D)  (None, 32, 7, 32)    0           conv2d_3[0][0]                   \n",
      "__________________________________________________________________________________________________\n",
      "dropout_1 (Dropout)             (None, 32, 7, 32)    0           max_pooling2d_2[0][0]            \n",
      "__________________________________________________________________________________________________\n",
      "flatten_1 (Flatten)             (None, 7168)         0           dropout_1[0][0]                  \n",
      "__________________________________________________________________________________________________\n",
      "dense_1 (Dense)                 (None, 64)           458816      flatten_1[0][0]                  \n",
      "__________________________________________________________________________________________________\n",
      "dropout_2 (Dropout)             (None, 64)           0           dense_1[0][0]                    \n",
      "__________________________________________________________________________________________________\n",
      "label_layer (Dense)             (None, 6)            390         dropout_2[0][0]                  \n",
      "__________________________________________________________________________________________________\n",
      "label_layer_sigmoid (Lambda)    (None, 6)            0           label_layer[0][0]                \n",
      "__________________________________________________________________________________________________\n",
      "label_inputs (InputLayer)       (None, 6)            0                                            \n",
      "__________________________________________________________________________________________________\n",
      "error_layer (Lambda)            (None, 6)            0           label_layer_sigmoid[0][0]        \n",
      "                                                                 label_inputs[0][0]               \n",
      "__________________________________________________________________________________________________\n",
      "dummy_layer (Lambda)            (None, 6)            0           error_layer[0][0]                \n",
      "__________________________________________________________________________________________________\n",
      "concatenate_1 (Concatenate)     (None, 12)           0           dummy_layer[0][0]                \n",
      "                                                                 label_layer[0][0]                \n",
      "==================================================================================================\n",
      "Total params: 478,118\n",
      "Trainable params: 478,118\n",
      "Non-trainable params: 0\n",
      "__________________________________________________________________________________________________\n",
      "Model: \"decoder\"\n",
      "_________________________________________________________________\n",
      "Layer (type)                 Output Shape              Param #   \n",
      "=================================================================\n",
      "z_sampling (InputLayer)      (None, 12)                0         \n",
      "_________________________________________________________________\n",
      "dense_2 (Dense)              (None, 9792)              127296    \n",
      "_________________________________________________________________\n",
      "reshape_1 (Reshape)          (None, 34, 9, 32)         0         \n",
      "_________________________________________________________________\n",
      "conv2d_transpose_1 (Conv2DTr (None, 68, 18, 16)        4624      \n",
      "_________________________________________________________________\n",
      "conv2d_transpose_2 (Conv2DTr (None, 136, 36, 8)        1160      \n",
      "_________________________________________________________________\n",
      "decoder_output (Conv2DTransp (None, 136, 36, 3)        219       \n",
      "=================================================================\n",
      "Total params: 133,299\n",
      "Trainable params: 133,299\n",
      "Non-trainable params: 0\n",
      "_________________________________________________________________\n"
     ]
    }
   ],
   "source": [
    "inputs = Input(shape=input_shape, name='encoder_input')\n",
    "label_inputs = Input(shape=(labels_shape,), name='label_inputs')\n",
    "\n",
    "conv_layer0 = Conv2D(32, kernel_size=(2, 2),activation='relu',input_shape=input_shape)(inputs)\n",
    "conv_layer1 = Conv2D(32, (3, 3), activation='relu')(conv_layer0)\n",
    "maxpool_layer0 = MaxPooling2D(pool_size=(2, 2))(conv_layer1)\n",
    "conv_layer2 = Conv2D(32, (3, 3), activation='relu')(maxpool_layer0)\n",
    "maxpool_layer1 = MaxPooling2D(pool_size=(2, 2))(conv_layer2)\n",
    "dropout_layer0 = Dropout(0.25)(maxpool_layer1)\n",
    "flatten_layer0 = Flatten()(dropout_layer0)\n",
    "dense_layer0 = Dense(64, activation='relu')(flatten_layer0)\n",
    "x = Dropout(0.5)(dense_layer0)\n",
    "\n",
    "label_layer = Dense(labels_shape, name='label_layer')(x)\n",
    "label_layer_sigmoid = Lambda(lambda x: tf.sigmoid(x), name='label_layer_sigmoid')(label_layer)\n",
    "error_layer = Lambda(lambda x: tf.abs(x[0]-x[1]), name='error_layer')([label_layer_sigmoid,label_inputs])\n",
    "dummy_layer = Lambda(lambda x: x*0, name='dummy_layer')(error_layer)#To keep the graph connected\n",
    "\n",
    "#bypass_layer = Dense(bypass_dim, name='bypass_layer')(x)\n",
    "#error_layer = Lambda(lambda x: -tf.math.log(1. / x - 1.), output_shape=(latent_dim,), name='label_layer_logit_of_sigmoid')(error_layer)\n",
    "z = Concatenate()([dummy_layer,  label_layer])#, bypass_layer])\n",
    "\n",
    "#z = Dense(latent_dim, name='z_mean')(concatenated)\n",
    "\n",
    "# build decoder model\n",
    "latent_inputs = Input(shape=(2*labels_shape,), name='z_sampling')\n",
    "\n",
    "x = Dense(shape[1] * shape[2] * shape[3], activation='relu')(latent_inputs)\n",
    "x = Reshape((shape[1], shape[2], shape[3]))(x)\n",
    "\n",
    "for i in range(2):\n",
    "    x = Conv2DTranspose(filters=filters,kernel_size=kernel_size,activation='relu',strides=2,padding='same')(x)\n",
    "    filters //= 2\n",
    "\n",
    "outputs = Conv2DTranspose(filters=input_shape[-1], kernel_size=kernel_size, activation='sigmoid',padding='same',name='decoder_output')(x)\n",
    "\n",
    "\n",
    "# instantiate encoder model\n",
    "encoder = Model([inputs,label_inputs], [z, label_layer_sigmoid], name='encoder')\n",
    "encoder.summary()\n",
    "\n",
    "# instantiate decoder model\n",
    "decoder = Model([latent_inputs], outputs, name='decoder')\n",
    "decoder.summary()\n",
    "\n",
    "# instantiate VAE model\n",
    "outputs = decoder(encoder([inputs,label_inputs])[0])\n",
    "vae = Model(inputs=[inputs,label_inputs], outputs=[outputs], name='vae')"
   ]
  },
  {
   "cell_type": "code",
   "execution_count": 14,
   "metadata": {},
   "outputs": [],
   "source": [
    "from keras.utils.vis_utils import plot_model"
   ]
  },
  {
   "cell_type": "code",
   "execution_count": 15,
   "metadata": {},
   "outputs": [
    {
     "data": {
      "image/png": "[encoded data removed]",
      "text/plain": [
       "<IPython.core.display.Image object>"
      ]
     },
     "execution_count": 15,
     "metadata": {},
     "output_type": "execute_result"
    }
   ],
   "source": [
    "plot_model(encoder, show_layer_names=True)"
   ]
  },
  {
   "cell_type": "code",
   "execution_count": 16,
   "metadata": {},
   "outputs": [],
   "source": [
    "def mse(y_true, y_pred):\n",
    "    #y_true = K.print_tensor(y_true, message='y_true = ')\n",
    "    if not K.is_tensor(y_pred):\n",
    "        y_pred = K.constant(y_pred)\n",
    "    y_true = K.cast(y_true, y_pred.dtype)\n",
    "    return K.mean(K.square(y_pred - y_true), axis=-1)"
   ]
  },
  {
   "cell_type": "code",
   "execution_count": 17,
   "metadata": {},
   "outputs": [],
   "source": [
    "def check_for_nan(label_inputs):\n",
    "    #label_inputs = K.print_tensor(label_inputs, message='contains_nan = ')\n",
    "    contains_nan = tf.reduce_any(tf.math.equal(label_inputs,-1))\n",
    "    #contains_nan = K.print_tensor(contains_nan, message='contains_nan = ')\n",
    "    return contains_nan"
   ]
  },
  {
   "cell_type": "code",
   "execution_count": 18,
   "metadata": {},
   "outputs": [],
   "source": [
    "reconstruction_loss = mse(K.flatten(inputs), K.flatten(outputs))\n",
    "reconstruction_loss *= input_shape[0] *  input_shape[1] * input_shape[2]\n",
    "contains_nan = check_for_nan(label_inputs)\n",
    "class_loss = 100+10*K.mean(error_layer)*reconstruction_loss#make the class loss scale with the vae_loss\n",
    "combined_loss = class_loss + reconstruction_loss\n",
    "final_loss = tf.cond(contains_nan,lambda: reconstruction_loss,lambda: combined_loss)"
   ]
  },
  {
   "cell_type": "code",
   "execution_count": 19,
   "metadata": {},
   "outputs": [
    {
     "name": "stderr",
     "output_type": "stream",
     "text": [
      "/home/elerator/anaconda3/lib/python3.7/site-packages/keras/engine/training_utils.py:819: UserWarning: Output decoder missing from loss dictionary. We assume this was done on purpose. The fit and evaluate APIs will not be expecting any data to be passed to decoder.\n",
      "  'be expecting any data to be passed to {0}.'.format(name))\n"
     ]
    }
   ],
   "source": [
    "vae.add_loss(final_loss)\n",
    "vae.compile(optimizer='rmsprop')"
   ]
  },
  {
   "cell_type": "code",
   "execution_count": 96,
   "metadata": {
    "scrolled": false
   },
   "outputs": [
    {
     "name": "stdout",
     "output_type": "stream",
     "text": [
      "Epoch 1/20\n",
      "19968/19968 [==============================] - 428s 21ms/step - loss: 187.6119\n",
      "Epoch 2/20\n",
      "19968/19968 [==============================] - 404s 20ms/step - loss: 186.0511\n",
      "Epoch 3/20\n",
      "19968/19968 [==============================] - 395s 20ms/step - loss: 183.7865\n",
      "Epoch 4/20\n",
      "19968/19968 [==============================] - 412s 21ms/step - loss: 183.1403\n",
      "Epoch 5/20\n",
      "19968/19968 [==============================] - 447s 22ms/step - loss: 181.1270\n",
      "Epoch 6/20\n",
      "19968/19968 [==============================] - 466s 23ms/step - loss: 180.8984\n",
      "Epoch 7/20\n",
      "19968/19968 [==============================] - 440s 22ms/step - loss: 178.8628\n",
      "Epoch 8/20\n",
      "19968/19968 [==============================] - 466s 23ms/step - loss: 179.0346\n",
      "Epoch 9/20\n",
      "19968/19968 [==============================] - 477s 24ms/step - loss: 178.0190\n",
      "Epoch 10/20\n",
      "19968/19968 [==============================] - 474s 24ms/step - loss: 176.7244\n",
      "Epoch 11/20\n",
      "19968/19968 [==============================] - 476s 24ms/step - loss: 176.2242\n",
      "Epoch 12/20\n",
      "19968/19968 [==============================] - 475s 24ms/step - loss: 174.6049\n",
      "Epoch 13/20\n",
      "19968/19968 [==============================] - 460s 23ms/step - loss: 175.3969\n",
      "Epoch 14/20\n",
      "19968/19968 [==============================] - 431s 22ms/step - loss: 175.4703\n",
      "Epoch 15/20\n",
      "19968/19968 [==============================] - 468s 23ms/step - loss: 173.9581\n",
      "Epoch 16/20\n",
      "19968/19968 [==============================] - 486s 24ms/step - loss: 173.4438\n",
      "Epoch 17/20\n",
      "19968/19968 [==============================] - 477s 24ms/step - loss: 173.8057\n",
      "Epoch 18/20\n",
      "19968/19968 [==============================] - 434s 22ms/step - loss: 172.1938\n",
      "Epoch 19/20\n",
      "19968/19968 [==============================] - 372s 19ms/step - loss: 172.9703\n",
      "Epoch 20/20\n",
      "19968/19968 [==============================] - 367s 18ms/step - loss: 170.7592\n"
     ]
    }
   ],
   "source": [
    "epochs = 20\n",
    "history = vae.fit([x_train,y_train],epochs=epochs,batch_size=batch_size,verbose=1,shuffle=False)#Do not shuffle!!!"
   ]
  },
  {
   "cell_type": "code",
   "execution_count": 97,
   "metadata": {
    "scrolled": true
   },
   "outputs": [
    {
     "data": {
      "image/png": "[encoded data removed]",
      "text/plain": [
       "<Figure size 432x288 with 1 Axes>"
      ]
     },
     "metadata": {
      "needs_background": "light"
     },
     "output_type": "display_data"
    }
   ],
   "source": [
    "plt.plot(history.history[\"loss\"])\n",
    "pickle.dump(history.history[\"loss\"],open(\"semi_supervised_big_bottleneck_loss.pkl\", \"wb\"))"
   ]
  },
  {
   "cell_type": "code",
   "execution_count": 123,
   "metadata": {},
   "outputs": [
    {
     "data": {
      "text/plain": [
       "<matplotlib.image.AxesImage at 0x7f35089892b0>"
      ]
     },
     "execution_count": 123,
     "metadata": {},
     "output_type": "execute_result"
    },
    {
     "data": {
      "image/png": "[encoded data removed]",
      "text/plain": [
       "<Figure size 432x288 with 1 Axes>"
      ]
     },
     "metadata": {
      "needs_background": "light"
     },
     "output_type": "display_data"
    }
   ],
   "source": [
    "columns=[\"is_bended\",\"is_violet\",\"has_rost_body\",\"short\",\"thick\",\"thin\"]\n",
    "properties = [0 for x in range(6)]\n",
    "properties.extend([1,0,0,1,0,1])\n",
    "\n",
    "plt.imshow(decoder.predict(np.array([properties]))[0,:,:,:])"
   ]
  },
  {
   "cell_type": "code",
   "execution_count": 99,
   "metadata": {},
   "outputs": [],
   "source": [
    "#vae.save_weights('semi_supervised_big_bottleneck.h5')\n",
    "#vae.load_weights(\"semi_supervised_whole.h5\")"
   ]
  },
  {
   "cell_type": "code",
   "execution_count": 100,
   "metadata": {},
   "outputs": [],
   "source": [
    "def get_confusion_matrices(y_pred,y_test,bias=False, additional_measures=False):\n",
    "    #Calculate confusion matrix\n",
    "    if bias == False:\n",
    "        bias = .5\n",
    "    y_pred = y_pred > bias\n",
    "    y_test = pd.DataFrame(y_test, dtype=np.int32)\n",
    "    y_pred = np.array(y_pred, dtype=np.int32)\n",
    "    y_test = pd.DataFrame(y_test)\n",
    "    false_negatives = np.sum(np.logical_and(y_test == 1,y_pred==0),axis=0)#y_test is 1 while y_pred did not indicate\n",
    "    false_positives = np.sum(np.logical_and(y_test == 0,y_pred==1),axis=0)#y_test is 0 while y_pred say it was 1\n",
    "    true_positives = np.sum(np.logical_and(y_test == 1,y_pred==1),axis=0)#both indicate 1\n",
    "    true_negatives = np.sum(np.logical_and(y_test == 0,y_pred==0),axis=0)#both indicate 0\n",
    "    summary = pd.DataFrame()\n",
    "    summary['False positive'] = false_positives\n",
    "    summary['False negative'] = false_negatives\n",
    "    summary['True positive'] = true_positives\n",
    "    summary['True negative'] = true_negatives\n",
    "    summary = pd.DataFrame(summary)\n",
    "    print(summary.sum(axis=1)[0])\n",
    "    summary_percent = (summary/summary.sum(axis=1)[0])\n",
    "    if additional_measures:\n",
    "        #summary_percent['Accuracy'] = summary_percent['True positive'] + summary_percent['True negative']\n",
    "        summary_percent['Sensitivity'] = summary_percent['True positive']/(summary_percent['True positive']+summary_percent['False negative'])\n",
    "        summary_percent['Specificity'] = summary_percent['True negative']/(summary_percent['True negative']+summary_percent['False positive'])\n",
    "\n",
    "    return summary, summary_percent"
   ]
  },
  {
   "cell_type": "code",
   "execution_count": 101,
   "metadata": {},
   "outputs": [],
   "source": [
    "#The numbers do not add up to 100% how is that possible?"
   ]
  },
  {
   "cell_type": "code",
   "execution_count": 102,
   "metadata": {},
   "outputs": [],
   "source": [
    "y_test = pd.DataFrame(y_test, columns=[\"is_bended\",\"is_violet\",\"has_rost_body\",\"short\",\"thick\",\"thin\"])"
   ]
  },
  {
   "cell_type": "code",
   "execution_count": 103,
   "metadata": {},
   "outputs": [],
   "source": [
    "label_predictions = encoder.predict([x_test,y_test])[-1]"
   ]
  },
  {
   "cell_type": "code",
   "execution_count": 104,
   "metadata": {},
   "outputs": [
    {
     "name": "stdout",
     "output_type": "stream",
     "text": [
      "2606\n"
     ]
    }
   ],
   "source": [
    "conf = get_confusion_matrices(label_predictions,y_test,.5,True)[1]"
   ]
  },
  {
   "cell_type": "code",
   "execution_count": 105,
   "metadata": {},
   "outputs": [
    {
     "data": {
      "text/html": [
       "<div>\n",
       "<style scoped>\n",
       "    .dataframe tbody tr th:only-of-type {\n",
       "        vertical-align: middle;\n",
       "    }\n",
       "\n",
       "    .dataframe tbody tr th {\n",
       "        vertical-align: top;\n",
       "    }\n",
       "\n",
       "    .dataframe thead th {\n",
       "        text-align: right;\n",
       "    }\n",
       "</style>\n",
       "<table border=\"1\" class=\"dataframe\">\n",
       "  <thead>\n",
       "    <tr style=\"text-align: right;\">\n",
       "      <th></th>\n",
       "      <th>False positive</th>\n",
       "      <th>False negative</th>\n",
       "      <th>True positive</th>\n",
       "      <th>True negative</th>\n",
       "      <th>Sensitivity</th>\n",
       "      <th>Specificity</th>\n",
       "    </tr>\n",
       "  </thead>\n",
       "  <tbody>\n",
       "    <tr>\n",
       "      <th>is_bended</th>\n",
       "      <td>0.02</td>\n",
       "      <td>0.34</td>\n",
       "      <td>0.07</td>\n",
       "      <td>0.57</td>\n",
       "      <td>0.18</td>\n",
       "      <td>0.96</td>\n",
       "    </tr>\n",
       "    <tr>\n",
       "      <th>is_violet</th>\n",
       "      <td>0.00</td>\n",
       "      <td>0.08</td>\n",
       "      <td>0.00</td>\n",
       "      <td>0.92</td>\n",
       "      <td>0.00</td>\n",
       "      <td>1.00</td>\n",
       "    </tr>\n",
       "    <tr>\n",
       "      <th>has_rost_body</th>\n",
       "      <td>0.23</td>\n",
       "      <td>0.19</td>\n",
       "      <td>0.28</td>\n",
       "      <td>0.30</td>\n",
       "      <td>0.59</td>\n",
       "      <td>0.57</td>\n",
       "    </tr>\n",
       "    <tr>\n",
       "      <th>short</th>\n",
       "      <td>0.00</td>\n",
       "      <td>0.01</td>\n",
       "      <td>0.01</td>\n",
       "      <td>0.97</td>\n",
       "      <td>0.57</td>\n",
       "      <td>1.00</td>\n",
       "    </tr>\n",
       "    <tr>\n",
       "      <th>thick</th>\n",
       "      <td>0.00</td>\n",
       "      <td>0.06</td>\n",
       "      <td>0.00</td>\n",
       "      <td>0.93</td>\n",
       "      <td>0.04</td>\n",
       "      <td>1.00</td>\n",
       "    </tr>\n",
       "    <tr>\n",
       "      <th>thin</th>\n",
       "      <td>0.02</td>\n",
       "      <td>0.07</td>\n",
       "      <td>0.23</td>\n",
       "      <td>0.68</td>\n",
       "      <td>0.76</td>\n",
       "      <td>0.97</td>\n",
       "    </tr>\n",
       "  </tbody>\n",
       "</table>\n",
       "</div>"
      ],
      "text/plain": [
       "               False positive  False negative  True positive  True negative  \\\n",
       "is_bended                0.02            0.34           0.07           0.57   \n",
       "is_violet                0.00            0.08           0.00           0.92   \n",
       "has_rost_body            0.23            0.19           0.28           0.30   \n",
       "short                    0.00            0.01           0.01           0.97   \n",
       "thick                    0.00            0.06           0.00           0.93   \n",
       "thin                     0.02            0.07           0.23           0.68   \n",
       "\n",
       "               Sensitivity  Specificity  \n",
       "is_bended             0.18         0.96  \n",
       "is_violet             0.00         1.00  \n",
       "has_rost_body         0.59         0.57  \n",
       "short                 0.57         1.00  \n",
       "thick                 0.04         1.00  \n",
       "thin                  0.76         0.97  "
      ]
     },
     "execution_count": 105,
     "metadata": {},
     "output_type": "execute_result"
    }
   ],
   "source": [
    "conf.round(2)"
   ]
  },
  {
   "cell_type": "code",
   "execution_count": 124,
   "metadata": {},
   "outputs": [
    {
     "name": "stdout",
     "output_type": "stream",
     "text": [
      "\\begin{tabular}{lrrrrrr}\n",
      "\\toprule\n",
      "{} &  False positive &  False negative &  True positive &  True negative &  Sensitivity &  Specificity \\\\\n",
      "\\midrule\n",
      "is\\_bended     &            0.02 &            0.34 &           0.07 &           0.57 &         0.18 &         0.96 \\\\\n",
      "is\\_violet     &            0.00 &            0.08 &           0.00 &           0.92 &         0.00 &         1.00 \\\\\n",
      "has\\_rost\\_body &            0.23 &            0.19 &           0.28 &           0.30 &         0.59 &         0.57 \\\\\n",
      "short         &            0.00 &            0.01 &           0.01 &           0.97 &         0.57 &         1.00 \\\\\n",
      "thick         &            0.00 &            0.06 &           0.00 &           0.93 &         0.04 &         1.00 \\\\\n",
      "thin          &            0.02 &            0.07 &           0.23 &           0.68 &         0.76 &         0.97 \\\\\n",
      "\\bottomrule\n",
      "\\end{tabular}\n",
      "\n"
     ]
    }
   ],
   "source": [
    "print(conf.round(2).to_latex(index=True))"
   ]
  },
  {
   "cell_type": "code",
   "execution_count": null,
   "metadata": {},
   "outputs": [],
   "source": []
  }
 ],
 "metadata": {
  "kernelspec": {
   "display_name": "Python 3",
   "language": "python",
   "name": "python3"
  },
  "language_info": {
   "codemirror_mode": {
    "name": "ipython",
    "version": 3
   },
   "file_extension": ".py",
   "mimetype": "text/x-python",
   "name": "python",
   "nbconvert_exporter": "python",
   "pygments_lexer": "ipython3",
   "version": "3.7.3"
  }
 },
 "nbformat": 4,
 "nbformat_minor": 2
}
