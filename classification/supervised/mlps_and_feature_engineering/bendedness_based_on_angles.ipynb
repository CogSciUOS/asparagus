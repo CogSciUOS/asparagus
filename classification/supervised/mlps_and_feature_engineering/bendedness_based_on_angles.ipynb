{
 "cells": [
  {
   "cell_type": "code",
   "execution_count": 1,
   "metadata": {},
   "outputs": [],
   "source": [
    "import numpy as np\n",
    "import pandas as pd\n",
    "from sklearn.model_selection import train_test_split\n",
    "import matplotlib.pyplot as plt"
   ]
  },
  {
   "cell_type": "code",
   "execution_count": 2,
   "metadata": {},
   "outputs": [],
   "source": [
    "df = pd.read_csv(\"interlaced_features.csv\", index_col=0)"
   ]
  },
  {
   "cell_type": "code",
   "execution_count": 3,
   "metadata": {},
   "outputs": [],
   "source": [
    "angles = df[[\"angle_0\",\"angle_1\",\"angle_2\",\"angle_3\",\"angle_4\",\"angle_5\"]]"
   ]
  },
  {
   "cell_type": "code",
   "execution_count": 4,
   "metadata": {
    "scrolled": true
   },
   "outputs": [],
   "source": [
    "angles = angles-np.min(angles.values)\n",
    "angles = angles*1/np.max(angles)"
   ]
  },
  {
   "cell_type": "code",
   "execution_count": 5,
   "metadata": {},
   "outputs": [
    {
     "data": {
      "text/plain": [
       "39084"
      ]
     },
     "execution_count": 5,
     "metadata": {},
     "output_type": "execute_result"
    }
   ],
   "source": [
    "len(angles)"
   ]
  },
  {
   "cell_type": "code",
   "execution_count": 6,
   "metadata": {},
   "outputs": [
    {
     "data": {
      "text/plain": [
       "13028.0"
      ]
     },
     "execution_count": 6,
     "metadata": {},
     "output_type": "execute_result"
    }
   ],
   "source": [
    "39084/3"
   ]
  },
  {
   "cell_type": "code",
   "execution_count": 7,
   "metadata": {},
   "outputs": [],
   "source": [
    "piecewise_angles = np.zeros([13028,18])"
   ]
  },
  {
   "cell_type": "code",
   "execution_count": 8,
   "metadata": {},
   "outputs": [],
   "source": [
    "piecewise_angles[:,0:6] = angles.values[0::3,:]\n",
    "piecewise_angles[:,6:12] = angles.values[1::3,:]\n",
    "piecewise_angles[:,12:18] = angles.values[1::3,:]"
   ]
  },
  {
   "cell_type": "code",
   "execution_count": 9,
   "metadata": {},
   "outputs": [
    {
     "data": {
      "text/plain": [
       "<matplotlib.image.AxesImage at 0x7fa513ccdcc0>"
      ]
     },
     "execution_count": 9,
     "metadata": {},
     "output_type": "execute_result"
    },
    {
     "data": {
      "image/png": "[encoded data removed]",
      "text/plain": [
       "<Figure size 432x288 with 1 Axes>"
      ]
     },
     "metadata": {
      "needs_background": "light"
     },
     "output_type": "display_data"
    }
   ],
   "source": [
    "plt.imshow(piecewise_angles[:100,:])"
   ]
  },
  {
   "cell_type": "code",
   "execution_count": 10,
   "metadata": {},
   "outputs": [],
   "source": [
    "labels = pd.read_csv(\"labels.csv\",header=0)"
   ]
  },
  {
   "cell_type": "code",
   "execution_count": 11,
   "metadata": {},
   "outputs": [],
   "source": [
    "labels = labels[\"is_bended\"]"
   ]
  },
  {
   "cell_type": "code",
   "execution_count": 12,
   "metadata": {},
   "outputs": [],
   "source": [
    "x_train, x_test, y_train, y_test = train_test_split(piecewise_angles, labels, test_size=0.2, random_state=42)"
   ]
  },
  {
   "cell_type": "code",
   "execution_count": 13,
   "metadata": {},
   "outputs": [
    {
     "data": {
      "text/plain": [
       "1073.0"
      ]
     },
     "execution_count": 13,
     "metadata": {},
     "output_type": "execute_result"
    }
   ],
   "source": [
    "y_test.sum(axis=0)"
   ]
  },
  {
   "cell_type": "code",
   "execution_count": 14,
   "metadata": {},
   "outputs": [
    {
     "data": {
      "text/plain": [
       "1533.0"
      ]
     },
     "execution_count": 14,
     "metadata": {},
     "output_type": "execute_result"
    }
   ],
   "source": [
    "len(y_test)-y_test.sum(axis=0)"
   ]
  },
  {
   "cell_type": "code",
   "execution_count": 15,
   "metadata": {},
   "outputs": [
    {
     "name": "stderr",
     "output_type": "stream",
     "text": [
      "Using TensorFlow backend.\n"
     ]
    }
   ],
   "source": [
    "from __future__ import print_function\n",
    "import keras\n",
    "from keras.datasets import mnist\n",
    "from keras.models import Sequential\n",
    "from keras.layers import Dense, Dropout, Flatten\n",
    "from keras.layers import Conv2D, MaxPooling2D\n",
    "from keras import backend as K"
   ]
  },
  {
   "cell_type": "code",
   "execution_count": 16,
   "metadata": {},
   "outputs": [],
   "source": [
    "sample_targets = np.array(y_train)[0]"
   ]
  },
  {
   "cell_type": "code",
   "execution_count": 42,
   "metadata": {},
   "outputs": [],
   "source": [
    "batch_size = 10\n",
    "epochs = 200\n",
    "num_classes = 1"
   ]
  },
  {
   "cell_type": "code",
   "execution_count": 43,
   "metadata": {},
   "outputs": [
    {
     "name": "stdout",
     "output_type": "stream",
     "text": [
      "x_train shape: (10422, 18)\n",
      "10422 train samples\n",
      "2606 test samples\n"
     ]
    }
   ],
   "source": [
    "print('x_train shape:', x_train.shape)\n",
    "print(x_train.shape[0], 'train samples')\n",
    "print(x_test.shape[0], 'test samples')\n",
    "\n",
    "model = Sequential()\n",
    "#model.add(Conv2D(1, kernel_size=(1, 1),activation='relu',input_shape=input_shape))\n",
    "model.add(Dense(128, activation='relu'))\n",
    "model.add(Dense(128, activation='relu'))\n",
    "model.add(Dense(128, activation='relu'))\n",
    "model.add(Dense(128, activation='relu'))\n",
    "model.add(Dense(num_classes, activation='sigmoid'))\n",
    "\n",
    "model.compile(loss=keras.losses.binary_crossentropy,optimizer=keras.optimizers.Adadelta(),metrics=['accuracy'])"
   ]
  },
  {
   "cell_type": "code",
   "execution_count": 44,
   "metadata": {
    "scrolled": false
   },
   "outputs": [
    {
     "name": "stdout",
     "output_type": "stream",
     "text": [
      "Train on 10422 samples, validate on 2606 samples\n",
      "Epoch 1/200\n",
      "10422/10422 [==============================] - 4s 365us/step - loss: 0.6722 - accuracy: 0.6003 - val_loss: 0.6699 - val_accuracy: 0.6159\n",
      "Epoch 2/200\n",
      "10422/10422 [==============================] - 3s 331us/step - loss: 0.6189 - accuracy: 0.6611 - val_loss: 0.6498 - val_accuracy: 0.6109\n",
      "Epoch 3/200\n",
      "10422/10422 [==============================] - 3s 318us/step - loss: 0.5840 - accuracy: 0.6934 - val_loss: 0.5799 - val_accuracy: 0.7111\n",
      "Epoch 4/200\n",
      "10422/10422 [==============================] - 4s 363us/step - loss: 0.5736 - accuracy: 0.7062 - val_loss: 0.5548 - val_accuracy: 0.7210\n",
      "Epoch 5/200\n",
      "10422/10422 [==============================] - 4s 360us/step - loss: 0.5673 - accuracy: 0.7121 - val_loss: 0.5886 - val_accuracy: 0.7053\n",
      "Epoch 6/200\n",
      "10422/10422 [==============================] - 4s 353us/step - loss: 0.5616 - accuracy: 0.7178 - val_loss: 0.6616 - val_accuracy: 0.6385\n",
      "Epoch 7/200\n",
      "10422/10422 [==============================] - 4s 337us/step - loss: 0.5584 - accuracy: 0.7187 - val_loss: 0.5738 - val_accuracy: 0.7084\n",
      "Epoch 8/200\n",
      "10422/10422 [==============================] - 3s 317us/step - loss: 0.5558 - accuracy: 0.7214 - val_loss: 0.5397 - val_accuracy: 0.7325\n",
      "Epoch 9/200\n",
      "10422/10422 [==============================] - 3s 319us/step - loss: 0.5519 - accuracy: 0.7220 - val_loss: 0.6427 - val_accuracy: 0.6197\n",
      "Epoch 10/200\n",
      "10422/10422 [==============================] - 3s 323us/step - loss: 0.5510 - accuracy: 0.7290 - val_loss: 0.5311 - val_accuracy: 0.7441\n",
      "Epoch 11/200\n",
      "10422/10422 [==============================] - 3s 322us/step - loss: 0.5518 - accuracy: 0.7249 - val_loss: 0.5400 - val_accuracy: 0.7356\n",
      "Epoch 12/200\n",
      "10422/10422 [==============================] - 3s 323us/step - loss: 0.5477 - accuracy: 0.7310 - val_loss: 0.5802 - val_accuracy: 0.7015\n",
      "Epoch 13/200\n",
      "10422/10422 [==============================] - 4s 353us/step - loss: 0.5443 - accuracy: 0.7302 - val_loss: 0.5366 - val_accuracy: 0.7441\n",
      "Epoch 14/200\n",
      "10422/10422 [==============================] - 4s 381us/step - loss: 0.5426 - accuracy: 0.7341 - val_loss: 0.6557 - val_accuracy: 0.5802\n",
      "Epoch 15/200\n",
      "10422/10422 [==============================] - 3s 317us/step - loss: 0.5441 - accuracy: 0.7320 - val_loss: 0.5108 - val_accuracy: 0.7533\n",
      "Epoch 16/200\n",
      "10422/10422 [==============================] - 3s 299us/step - loss: 0.5424 - accuracy: 0.7332 - val_loss: 0.5921 - val_accuracy: 0.7214\n",
      "Epoch 17/200\n",
      "10422/10422 [==============================] - 3s 317us/step - loss: 0.5380 - accuracy: 0.7345 - val_loss: 0.5332 - val_accuracy: 0.7364\n",
      "Epoch 18/200\n",
      "10422/10422 [==============================] - 4s 361us/step - loss: 0.5366 - accuracy: 0.7382 - val_loss: 0.5507 - val_accuracy: 0.7383\n",
      "Epoch 19/200\n",
      "10422/10422 [==============================] - 4s 371us/step - loss: 0.5368 - accuracy: 0.7376 - val_loss: 0.6075 - val_accuracy: 0.6711\n",
      "Epoch 20/200\n",
      "10422/10422 [==============================] - 3s 306us/step - loss: 0.5349 - accuracy: 0.7388 - val_loss: 0.5250 - val_accuracy: 0.7552\n",
      "Epoch 21/200\n",
      "10422/10422 [==============================] - 4s 375us/step - loss: 0.5342 - accuracy: 0.7426 - val_loss: 0.5607 - val_accuracy: 0.7176\n",
      "Epoch 22/200\n",
      "10422/10422 [==============================] - 3s 310us/step - loss: 0.5337 - accuracy: 0.7422 - val_loss: 0.5360 - val_accuracy: 0.7417\n",
      "Epoch 23/200\n",
      "10422/10422 [==============================] - 3s 315us/step - loss: 0.5330 - accuracy: 0.7429 - val_loss: 0.5219 - val_accuracy: 0.7494\n",
      "Epoch 24/200\n",
      "10422/10422 [==============================] - 3s 311us/step - loss: 0.5309 - accuracy: 0.7449 - val_loss: 0.5372 - val_accuracy: 0.7437\n",
      "Epoch 25/200\n",
      "10422/10422 [==============================] - 3s 321us/step - loss: 0.5304 - accuracy: 0.7431 - val_loss: 0.6065 - val_accuracy: 0.6842\n",
      "Epoch 26/200\n",
      "10422/10422 [==============================] - 3s 306us/step - loss: 0.5310 - accuracy: 0.7404 - val_loss: 0.5662 - val_accuracy: 0.6999\n",
      "Epoch 27/200\n",
      "10422/10422 [==============================] - 3s 317us/step - loss: 0.5306 - accuracy: 0.7379 - val_loss: 0.5148 - val_accuracy: 0.7467\n",
      "Epoch 28/200\n",
      "10422/10422 [==============================] - 3s 302us/step - loss: 0.5290 - accuracy: 0.7412 - val_loss: 0.5342 - val_accuracy: 0.7487\n",
      "Epoch 29/200\n",
      "10422/10422 [==============================] - 3s 313us/step - loss: 0.5264 - accuracy: 0.7391 - val_loss: 0.5980 - val_accuracy: 0.6861\n",
      "Epoch 30/200\n",
      "10422/10422 [==============================] - 3s 318us/step - loss: 0.5264 - accuracy: 0.7449 - val_loss: 0.6515 - val_accuracy: 0.5848\n",
      "Epoch 31/200\n",
      "10422/10422 [==============================] - 3s 318us/step - loss: 0.5259 - accuracy: 0.7464 - val_loss: 0.5182 - val_accuracy: 0.7521\n",
      "Epoch 32/200\n",
      "10422/10422 [==============================] - 3s 314us/step - loss: 0.5264 - accuracy: 0.7435 - val_loss: 0.5237 - val_accuracy: 0.7483\n",
      "Epoch 33/200\n",
      "10422/10422 [==============================] - 3s 313us/step - loss: 0.5272 - accuracy: 0.7436 - val_loss: 0.5157 - val_accuracy: 0.7464\n",
      "Epoch 34/200\n",
      "10422/10422 [==============================] - 3s 306us/step - loss: 0.5230 - accuracy: 0.7491 - val_loss: 0.5177 - val_accuracy: 0.7452\n",
      "Epoch 35/200\n",
      "10422/10422 [==============================] - 3s 312us/step - loss: 0.5225 - accuracy: 0.7476 - val_loss: 0.7850 - val_accuracy: 0.5257\n",
      "Epoch 36/200\n",
      "10422/10422 [==============================] - 3s 310us/step - loss: 0.5220 - accuracy: 0.7487 - val_loss: 0.5110 - val_accuracy: 0.7521\n",
      "Epoch 37/200\n",
      "10422/10422 [==============================] - 3s 318us/step - loss: 0.5250 - accuracy: 0.7465 - val_loss: 0.5362 - val_accuracy: 0.7333\n",
      "Epoch 38/200\n",
      "10422/10422 [==============================] - 3s 321us/step - loss: 0.5236 - accuracy: 0.7471 - val_loss: 0.5067 - val_accuracy: 0.7567\n",
      "Epoch 39/200\n",
      "10422/10422 [==============================] - 3s 314us/step - loss: 0.5194 - accuracy: 0.7476 - val_loss: 0.6114 - val_accuracy: 0.6285\n",
      "Epoch 40/200\n",
      "10422/10422 [==============================] - 3s 312us/step - loss: 0.5190 - accuracy: 0.7506 - val_loss: 0.5201 - val_accuracy: 0.7479\n",
      "Epoch 41/200\n",
      "10422/10422 [==============================] - 3s 322us/step - loss: 0.5197 - accuracy: 0.7489 - val_loss: 0.4995 - val_accuracy: 0.7571\n",
      "Epoch 42/200\n",
      "10422/10422 [==============================] - 3s 317us/step - loss: 0.5213 - accuracy: 0.7476 - val_loss: 0.5486 - val_accuracy: 0.7360\n",
      "Epoch 43/200\n",
      "10422/10422 [==============================] - 3s 305us/step - loss: 0.5193 - accuracy: 0.7450 - val_loss: 0.5162 - val_accuracy: 0.7621\n",
      "Epoch 44/200\n",
      "10422/10422 [==============================] - 3s 299us/step - loss: 0.5169 - accuracy: 0.7514 - val_loss: 0.5510 - val_accuracy: 0.7329\n",
      "Epoch 45/200\n",
      "10422/10422 [==============================] - 3s 298us/step - loss: 0.5156 - accuracy: 0.7521 - val_loss: 0.5082 - val_accuracy: 0.7563\n",
      "Epoch 46/200\n",
      "10422/10422 [==============================] - 3s 299us/step - loss: 0.5144 - accuracy: 0.7546 - val_loss: 0.5264 - val_accuracy: 0.7510\n",
      "Epoch 47/200\n",
      "10422/10422 [==============================] - 3s 299us/step - loss: 0.5142 - accuracy: 0.7534 - val_loss: 0.6937 - val_accuracy: 0.6186\n",
      "Epoch 48/200\n",
      "10422/10422 [==============================] - 3s 299us/step - loss: 0.5161 - accuracy: 0.7542 - val_loss: 0.5343 - val_accuracy: 0.7502\n",
      "Epoch 49/200\n",
      "10422/10422 [==============================] - 3s 303us/step - loss: 0.5145 - accuracy: 0.7558 - val_loss: 0.6152 - val_accuracy: 0.6884\n",
      "Epoch 50/200\n",
      "10422/10422 [==============================] - 3s 301us/step - loss: 0.5141 - accuracy: 0.7537 - val_loss: 0.5388 - val_accuracy: 0.7536\n",
      "Epoch 51/200\n",
      "10422/10422 [==============================] - 3s 297us/step - loss: 0.5138 - accuracy: 0.7500 - val_loss: 0.5411 - val_accuracy: 0.7571\n",
      "Epoch 52/200\n",
      "10422/10422 [==============================] - 3s 297us/step - loss: 0.5158 - accuracy: 0.7502 - val_loss: 0.5189 - val_accuracy: 0.7502\n",
      "Epoch 53/200\n",
      "10422/10422 [==============================] - 3s 297us/step - loss: 0.5122 - accuracy: 0.7501 - val_loss: 0.5104 - val_accuracy: 0.7625\n",
      "Epoch 54/200\n",
      "10422/10422 [==============================] - 3s 306us/step - loss: 0.5106 - accuracy: 0.7557 - val_loss: 0.5230 - val_accuracy: 0.7640\n",
      "Epoch 55/200\n"
     ]
    },
    {
     "name": "stdout",
     "output_type": "stream",
     "text": [
      "10422/10422 [==============================] - 3s 298us/step - loss: 0.5148 - accuracy: 0.7550 - val_loss: 0.5200 - val_accuracy: 0.7609\n",
      "Epoch 56/200\n",
      "10422/10422 [==============================] - 3s 304us/step - loss: 0.5103 - accuracy: 0.7570 - val_loss: 0.5532 - val_accuracy: 0.7479\n",
      "Epoch 57/200\n",
      "10422/10422 [==============================] - 3s 298us/step - loss: 0.5143 - accuracy: 0.7510 - val_loss: 0.5234 - val_accuracy: 0.7575\n",
      "Epoch 58/200\n",
      "10422/10422 [==============================] - 3s 296us/step - loss: 0.5132 - accuracy: 0.7545 - val_loss: 0.5321 - val_accuracy: 0.7467\n",
      "Epoch 59/200\n",
      "10422/10422 [==============================] - 3s 300us/step - loss: 0.5123 - accuracy: 0.7535 - val_loss: 0.5040 - val_accuracy: 0.7621\n",
      "Epoch 60/200\n",
      "10422/10422 [==============================] - 3s 296us/step - loss: 0.5098 - accuracy: 0.7590 - val_loss: 0.5142 - val_accuracy: 0.7586\n",
      "Epoch 61/200\n",
      "10422/10422 [==============================] - 3s 295us/step - loss: 0.5122 - accuracy: 0.7536 - val_loss: 0.5370 - val_accuracy: 0.7506\n",
      "Epoch 62/200\n",
      "10422/10422 [==============================] - 3s 296us/step - loss: 0.5147 - accuracy: 0.7569 - val_loss: 0.5291 - val_accuracy: 0.7383\n",
      "Epoch 63/200\n",
      "10422/10422 [==============================] - 3s 297us/step - loss: 0.5111 - accuracy: 0.7548 - val_loss: 0.6259 - val_accuracy: 0.7018\n",
      "Epoch 64/200\n",
      "10422/10422 [==============================] - 3s 299us/step - loss: 0.5118 - accuracy: 0.7574 - val_loss: 0.5078 - val_accuracy: 0.7590\n",
      "Epoch 65/200\n",
      "10422/10422 [==============================] - 3s 299us/step - loss: 0.5112 - accuracy: 0.7542 - val_loss: 0.5088 - val_accuracy: 0.7606\n",
      "Epoch 66/200\n",
      "10422/10422 [==============================] - 3s 297us/step - loss: 0.5097 - accuracy: 0.7537 - val_loss: 0.6364 - val_accuracy: 0.7087\n",
      "Epoch 67/200\n",
      "10422/10422 [==============================] - 3s 303us/step - loss: 0.5107 - accuracy: 0.7558 - val_loss: 0.5434 - val_accuracy: 0.7444\n",
      "Epoch 68/200\n",
      "10422/10422 [==============================] - 3s 302us/step - loss: 0.5132 - accuracy: 0.7532 - val_loss: 0.5247 - val_accuracy: 0.7613\n",
      "Epoch 69/200\n",
      "10422/10422 [==============================] - 4s 347us/step - loss: 0.5111 - accuracy: 0.7564 - val_loss: 0.5263 - val_accuracy: 0.7602\n",
      "Epoch 70/200\n",
      "10422/10422 [==============================] - 3s 296us/step - loss: 0.5087 - accuracy: 0.7596 - val_loss: 0.5342 - val_accuracy: 0.7521\n",
      "Epoch 71/200\n",
      "10422/10422 [==============================] - 3s 302us/step - loss: 0.5105 - accuracy: 0.7570 - val_loss: 0.5271 - val_accuracy: 0.7533\n",
      "Epoch 72/200\n",
      "10422/10422 [==============================] - 3s 305us/step - loss: 0.5093 - accuracy: 0.7571 - val_loss: 0.5213 - val_accuracy: 0.7652\n",
      "Epoch 73/200\n",
      "10422/10422 [==============================] - 3s 301us/step - loss: 0.5086 - accuracy: 0.7609 - val_loss: 0.5194 - val_accuracy: 0.7533\n",
      "Epoch 74/200\n",
      "10422/10422 [==============================] - 3s 300us/step - loss: 0.5076 - accuracy: 0.7559 - val_loss: 0.5713 - val_accuracy: 0.7107\n",
      "Epoch 75/200\n",
      "10422/10422 [==============================] - 3s 298us/step - loss: 0.5047 - accuracy: 0.7598 - val_loss: 0.5122 - val_accuracy: 0.7682\n",
      "Epoch 76/200\n",
      "10422/10422 [==============================] - 3s 313us/step - loss: 0.5084 - accuracy: 0.7559 - val_loss: 0.5272 - val_accuracy: 0.7556\n",
      "Epoch 77/200\n",
      "10422/10422 [==============================] - 3s 299us/step - loss: 0.5085 - accuracy: 0.7583 - val_loss: 0.5075 - val_accuracy: 0.7632\n",
      "Epoch 78/200\n",
      "10422/10422 [==============================] - 3s 297us/step - loss: 0.5073 - accuracy: 0.7567 - val_loss: 0.5105 - val_accuracy: 0.7652\n",
      "Epoch 79/200\n",
      "10422/10422 [==============================] - 3s 301us/step - loss: 0.5053 - accuracy: 0.7557 - val_loss: 0.4977 - val_accuracy: 0.7709\n",
      "Epoch 80/200\n",
      "10422/10422 [==============================] - 3s 299us/step - loss: 0.5059 - accuracy: 0.7585 - val_loss: 0.5044 - val_accuracy: 0.7659\n",
      "Epoch 81/200\n",
      "10422/10422 [==============================] - 3s 298us/step - loss: 0.5070 - accuracy: 0.7578 - val_loss: 0.5535 - val_accuracy: 0.7279\n",
      "Epoch 82/200\n",
      "10422/10422 [==============================] - 3s 296us/step - loss: 0.5036 - accuracy: 0.7611 - val_loss: 0.5094 - val_accuracy: 0.7579\n",
      "Epoch 83/200\n",
      "10422/10422 [==============================] - 3s 299us/step - loss: 0.5058 - accuracy: 0.7565 - val_loss: 0.5062 - val_accuracy: 0.7705\n",
      "Epoch 84/200\n",
      "10422/10422 [==============================] - 3s 301us/step - loss: 0.5048 - accuracy: 0.7622 - val_loss: 0.5179 - val_accuracy: 0.7556\n",
      "Epoch 85/200\n",
      "10422/10422 [==============================] - 3s 298us/step - loss: 0.5028 - accuracy: 0.7598 - val_loss: 0.6260 - val_accuracy: 0.6378\n",
      "Epoch 86/200\n",
      "10422/10422 [==============================] - 3s 303us/step - loss: 0.5038 - accuracy: 0.7612 - val_loss: 0.5406 - val_accuracy: 0.7498\n",
      "Epoch 87/200\n",
      "10422/10422 [==============================] - 3s 302us/step - loss: 0.5066 - accuracy: 0.7612 - val_loss: 0.5063 - val_accuracy: 0.7652\n",
      "Epoch 88/200\n",
      "10422/10422 [==============================] - 3s 297us/step - loss: 0.4986 - accuracy: 0.7642 - val_loss: 0.5141 - val_accuracy: 0.7471\n",
      "Epoch 89/200\n",
      "10422/10422 [==============================] - 3s 301us/step - loss: 0.5025 - accuracy: 0.7579 - val_loss: 0.5457 - val_accuracy: 0.7441\n",
      "Epoch 90/200\n",
      "10422/10422 [==============================] - 3s 304us/step - loss: 0.5028 - accuracy: 0.7618 - val_loss: 0.5050 - val_accuracy: 0.7678\n",
      "Epoch 91/200\n",
      "10422/10422 [==============================] - 3s 298us/step - loss: 0.5062 - accuracy: 0.7587 - val_loss: 0.5125 - val_accuracy: 0.7487\n",
      "Epoch 92/200\n",
      "10422/10422 [==============================] - 3s 303us/step - loss: 0.5010 - accuracy: 0.7593 - val_loss: 0.5196 - val_accuracy: 0.7536\n",
      "Epoch 93/200\n",
      "10422/10422 [==============================] - 3s 299us/step - loss: 0.5001 - accuracy: 0.7587 - val_loss: 0.5062 - val_accuracy: 0.7644\n",
      "Epoch 94/200\n",
      "10422/10422 [==============================] - 3s 299us/step - loss: 0.4991 - accuracy: 0.7585 - val_loss: 0.5233 - val_accuracy: 0.7487\n",
      "Epoch 95/200\n",
      "10422/10422 [==============================] - 3s 307us/step - loss: 0.4993 - accuracy: 0.7595 - val_loss: 0.5227 - val_accuracy: 0.7613\n",
      "Epoch 96/200\n",
      "10422/10422 [==============================] - 3s 300us/step - loss: 0.5013 - accuracy: 0.7651 - val_loss: 0.5599 - val_accuracy: 0.7233\n",
      "Epoch 97/200\n",
      "10422/10422 [==============================] - 3s 302us/step - loss: 0.5024 - accuracy: 0.7598 - val_loss: 0.5713 - val_accuracy: 0.7153\n",
      "Epoch 98/200\n",
      "10422/10422 [==============================] - 3s 301us/step - loss: 0.5004 - accuracy: 0.7597 - val_loss: 0.5056 - val_accuracy: 0.7713\n",
      "Epoch 99/200\n",
      "10422/10422 [==============================] - 3s 298us/step - loss: 0.5009 - accuracy: 0.7609 - val_loss: 0.5031 - val_accuracy: 0.7678\n",
      "Epoch 100/200\n",
      "10422/10422 [==============================] - 3s 306us/step - loss: 0.5016 - accuracy: 0.7588 - val_loss: 0.5296 - val_accuracy: 0.7640\n",
      "Epoch 101/200\n",
      "10422/10422 [==============================] - 3s 299us/step - loss: 0.4989 - accuracy: 0.7624 - val_loss: 0.5106 - val_accuracy: 0.7759\n",
      "Epoch 102/200\n",
      "10422/10422 [==============================] - 3s 302us/step - loss: 0.5036 - accuracy: 0.7584 - val_loss: 0.5159 - val_accuracy: 0.7640\n",
      "Epoch 103/200\n",
      "10422/10422 [==============================] - 3s 302us/step - loss: 0.4959 - accuracy: 0.7657 - val_loss: 0.5138 - val_accuracy: 0.7663\n",
      "Epoch 104/200\n",
      "10422/10422 [==============================] - 3s 308us/step - loss: 0.4997 - accuracy: 0.7595 - val_loss: 0.5120 - val_accuracy: 0.7590\n",
      "Epoch 105/200\n",
      "10422/10422 [==============================] - 3s 301us/step - loss: 0.4977 - accuracy: 0.7625 - val_loss: 0.5525 - val_accuracy: 0.7506\n",
      "Epoch 106/200\n",
      "10422/10422 [==============================] - 3s 295us/step - loss: 0.4978 - accuracy: 0.7625 - val_loss: 0.4951 - val_accuracy: 0.7794\n",
      "Epoch 107/200\n",
      "10422/10422 [==============================] - 3s 301us/step - loss: 0.5012 - accuracy: 0.7607 - val_loss: 0.5100 - val_accuracy: 0.7594\n",
      "Epoch 108/200\n",
      "10422/10422 [==============================] - 3s 301us/step - loss: 0.4985 - accuracy: 0.7638 - val_loss: 0.4970 - val_accuracy: 0.7632\n",
      "Epoch 109/200\n"
     ]
    },
    {
     "name": "stdout",
     "output_type": "stream",
     "text": [
      "10422/10422 [==============================] - 3s 297us/step - loss: 0.5008 - accuracy: 0.7594 - val_loss: 0.5301 - val_accuracy: 0.7475\n",
      "Epoch 110/200\n",
      "10422/10422 [==============================] - 3s 310us/step - loss: 0.4988 - accuracy: 0.7579 - val_loss: 0.6770 - val_accuracy: 0.6715\n",
      "Epoch 111/200\n",
      "10422/10422 [==============================] - 4s 358us/step - loss: 0.4960 - accuracy: 0.7619 - val_loss: 0.5262 - val_accuracy: 0.7617\n",
      "Epoch 112/200\n",
      "10422/10422 [==============================] - 4s 352us/step - loss: 0.4960 - accuracy: 0.7616 - val_loss: 0.5254 - val_accuracy: 0.7575\n",
      "Epoch 113/200\n",
      "10422/10422 [==============================] - 4s 403us/step - loss: 0.4974 - accuracy: 0.7635 - val_loss: 0.5291 - val_accuracy: 0.7621\n",
      "Epoch 114/200\n",
      "10422/10422 [==============================] - 4s 356us/step - loss: 0.4980 - accuracy: 0.7626 - val_loss: 0.5282 - val_accuracy: 0.7452\n",
      "Epoch 115/200\n",
      "10422/10422 [==============================] - 4s 372us/step - loss: 0.4970 - accuracy: 0.7642 - val_loss: 0.5246 - val_accuracy: 0.7529\n",
      "Epoch 116/200\n",
      "10422/10422 [==============================] - 4s 358us/step - loss: 0.4960 - accuracy: 0.7629 - val_loss: 0.5017 - val_accuracy: 0.7705\n",
      "Epoch 117/200\n",
      "10422/10422 [==============================] - 4s 399us/step - loss: 0.4976 - accuracy: 0.7666 - val_loss: 0.5058 - val_accuracy: 0.7594\n",
      "Epoch 118/200\n",
      "10422/10422 [==============================] - 4s 347us/step - loss: 0.4993 - accuracy: 0.7569 - val_loss: 0.5224 - val_accuracy: 0.7494\n",
      "Epoch 119/200\n",
      "10422/10422 [==============================] - 3s 335us/step - loss: 0.4952 - accuracy: 0.7677 - val_loss: 0.5417 - val_accuracy: 0.7460\n",
      "Epoch 120/200\n",
      "10422/10422 [==============================] - 3s 305us/step - loss: 0.4938 - accuracy: 0.7656 - val_loss: 0.5063 - val_accuracy: 0.7748\n",
      "Epoch 121/200\n",
      "10422/10422 [==============================] - 3s 301us/step - loss: 0.4928 - accuracy: 0.7666 - val_loss: 0.5349 - val_accuracy: 0.7402\n",
      "Epoch 122/200\n",
      "10422/10422 [==============================] - 3s 302us/step - loss: 0.4966 - accuracy: 0.7607 - val_loss: 0.5242 - val_accuracy: 0.7606\n",
      "Epoch 123/200\n",
      "10422/10422 [==============================] - 3s 303us/step - loss: 0.4946 - accuracy: 0.7681 - val_loss: 0.4957 - val_accuracy: 0.7717\n",
      "Epoch 124/200\n",
      "10422/10422 [==============================] - 3s 300us/step - loss: 0.4934 - accuracy: 0.7666 - val_loss: 0.5023 - val_accuracy: 0.7694\n",
      "Epoch 125/200\n",
      "10422/10422 [==============================] - 3s 299us/step - loss: 0.4954 - accuracy: 0.7654 - val_loss: 0.5206 - val_accuracy: 0.7583\n",
      "Epoch 126/200\n",
      "10422/10422 [==============================] - 3s 300us/step - loss: 0.4956 - accuracy: 0.7642 - val_loss: 0.5152 - val_accuracy: 0.7586\n",
      "Epoch 127/200\n",
      "10422/10422 [==============================] - 3s 301us/step - loss: 0.4946 - accuracy: 0.7661 - val_loss: 0.5702 - val_accuracy: 0.7306\n",
      "Epoch 128/200\n",
      "10422/10422 [==============================] - 3s 305us/step - loss: 0.4939 - accuracy: 0.7642 - val_loss: 0.5913 - val_accuracy: 0.6949\n",
      "Epoch 129/200\n",
      "10422/10422 [==============================] - 3s 308us/step - loss: 0.4947 - accuracy: 0.7626 - val_loss: 0.5343 - val_accuracy: 0.7563\n",
      "Epoch 130/200\n",
      "10422/10422 [==============================] - 3s 309us/step - loss: 0.4938 - accuracy: 0.7665 - val_loss: 0.5166 - val_accuracy: 0.7598\n",
      "Epoch 131/200\n",
      "10422/10422 [==============================] - 4s 411us/step - loss: 0.4959 - accuracy: 0.7605 - val_loss: 0.5266 - val_accuracy: 0.7636\n",
      "Epoch 132/200\n",
      "10422/10422 [==============================] - 4s 382us/step - loss: 0.4935 - accuracy: 0.7673 - val_loss: 0.5239 - val_accuracy: 0.7590\n",
      "Epoch 133/200\n",
      "10422/10422 [==============================] - 3s 327us/step - loss: 0.4946 - accuracy: 0.7632 - val_loss: 0.5478 - val_accuracy: 0.7483\n",
      "Epoch 134/200\n",
      "10422/10422 [==============================] - 3s 318us/step - loss: 0.4926 - accuracy: 0.7666 - val_loss: 0.5235 - val_accuracy: 0.7632\n",
      "Epoch 135/200\n",
      "10422/10422 [==============================] - 3s 312us/step - loss: 0.4917 - accuracy: 0.7654 - val_loss: 0.5375 - val_accuracy: 0.7625\n",
      "Epoch 136/200\n",
      "10422/10422 [==============================] - 3s 310us/step - loss: 0.4963 - accuracy: 0.7660 - val_loss: 0.5035 - val_accuracy: 0.7609\n",
      "Epoch 137/200\n",
      "10422/10422 [==============================] - 3s 325us/step - loss: 0.4935 - accuracy: 0.7649 - val_loss: 0.5144 - val_accuracy: 0.7602\n",
      "Epoch 138/200\n",
      "10422/10422 [==============================] - 3s 316us/step - loss: 0.4943 - accuracy: 0.7651 - val_loss: 0.5196 - val_accuracy: 0.7540\n",
      "Epoch 139/200\n",
      "10422/10422 [==============================] - 3s 315us/step - loss: 0.4935 - accuracy: 0.7626 - val_loss: 0.5115 - val_accuracy: 0.7632\n",
      "Epoch 140/200\n",
      "10422/10422 [==============================] - 3s 312us/step - loss: 0.4941 - accuracy: 0.7660 - val_loss: 0.5455 - val_accuracy: 0.7602\n",
      "Epoch 141/200\n",
      "10422/10422 [==============================] - 3s 318us/step - loss: 0.4932 - accuracy: 0.7625 - val_loss: 0.5604 - val_accuracy: 0.7256\n",
      "Epoch 142/200\n",
      "10422/10422 [==============================] - 3s 311us/step - loss: 0.4935 - accuracy: 0.7661 - val_loss: 0.5169 - val_accuracy: 0.7671\n",
      "Epoch 143/200\n",
      "10422/10422 [==============================] - 3s 319us/step - loss: 0.4904 - accuracy: 0.7666 - val_loss: 0.5021 - val_accuracy: 0.7717\n",
      "Epoch 144/200\n",
      "10422/10422 [==============================] - 3s 301us/step - loss: 0.4891 - accuracy: 0.7645 - val_loss: 0.5148 - val_accuracy: 0.7456\n",
      "Epoch 145/200\n",
      "10422/10422 [==============================] - 3s 303us/step - loss: 0.4908 - accuracy: 0.7658 - val_loss: 0.4963 - val_accuracy: 0.7652\n",
      "Epoch 146/200\n",
      "10422/10422 [==============================] - 4s 340us/step - loss: 0.4904 - accuracy: 0.7629 - val_loss: 0.5024 - val_accuracy: 0.7732\n",
      "Epoch 147/200\n",
      "10422/10422 [==============================] - 3s 332us/step - loss: 0.4925 - accuracy: 0.7683 - val_loss: 0.5174 - val_accuracy: 0.7590\n",
      "Epoch 148/200\n",
      "10422/10422 [==============================] - 3s 328us/step - loss: 0.4913 - accuracy: 0.7643 - val_loss: 0.5015 - val_accuracy: 0.7782\n",
      "Epoch 149/200\n",
      "10422/10422 [==============================] - 5s 444us/step - loss: 0.4900 - accuracy: 0.7656 - val_loss: 0.5126 - val_accuracy: 0.7690\n",
      "Epoch 150/200\n",
      "10422/10422 [==============================] - 4s 355us/step - loss: 0.4926 - accuracy: 0.7665 - val_loss: 0.5407 - val_accuracy: 0.7602\n",
      "Epoch 151/200\n",
      "10422/10422 [==============================] - 4s 341us/step - loss: 0.4899 - accuracy: 0.7650 - val_loss: 0.4963 - val_accuracy: 0.7632\n",
      "Epoch 152/200\n",
      "10422/10422 [==============================] - 3s 313us/step - loss: 0.4900 - accuracy: 0.7686 - val_loss: 0.4976 - val_accuracy: 0.7774\n",
      "Epoch 153/200\n",
      "10422/10422 [==============================] - 3s 333us/step - loss: 0.4914 - accuracy: 0.7669 - val_loss: 0.5248 - val_accuracy: 0.7579\n",
      "Epoch 154/200\n",
      "10422/10422 [==============================] - 3s 315us/step - loss: 0.4904 - accuracy: 0.7682 - val_loss: 0.5037 - val_accuracy: 0.7686\n",
      "Epoch 155/200\n",
      "10422/10422 [==============================] - 3s 303us/step - loss: 0.4913 - accuracy: 0.7651 - val_loss: 0.5113 - val_accuracy: 0.7632\n",
      "Epoch 156/200\n",
      "10422/10422 [==============================] - 4s 387us/step - loss: 0.4918 - accuracy: 0.7642 - val_loss: 0.4943 - val_accuracy: 0.7744\n",
      "Epoch 157/200\n",
      "10422/10422 [==============================] - 3s 330us/step - loss: 0.4892 - accuracy: 0.7691 - val_loss: 0.5054 - val_accuracy: 0.7590\n",
      "Epoch 158/200\n",
      "10422/10422 [==============================] - 3s 302us/step - loss: 0.4896 - accuracy: 0.7665 - val_loss: 0.5011 - val_accuracy: 0.7625\n",
      "Epoch 159/200\n",
      "10422/10422 [==============================] - 3s 312us/step - loss: 0.4871 - accuracy: 0.7682 - val_loss: 0.7037 - val_accuracy: 0.6497\n",
      "Epoch 160/200\n",
      "10422/10422 [==============================] - 4s 358us/step - loss: 0.4867 - accuracy: 0.7696 - val_loss: 0.5020 - val_accuracy: 0.7717\n",
      "Epoch 161/200\n",
      "10422/10422 [==============================] - 5s 480us/step - loss: 0.4887 - accuracy: 0.7650 - val_loss: 0.5123 - val_accuracy: 0.7659\n",
      "Epoch 162/200\n",
      "10422/10422 [==============================] - 5s 448us/step - loss: 0.4863 - accuracy: 0.7690 - val_loss: 0.5052 - val_accuracy: 0.7464\n",
      "Epoch 163/200\n"
     ]
    },
    {
     "name": "stdout",
     "output_type": "stream",
     "text": [
      "10422/10422 [==============================] - 6s 534us/step - loss: 0.4880 - accuracy: 0.7700 - val_loss: 0.5180 - val_accuracy: 0.7602\n",
      "Epoch 164/200\n",
      "10422/10422 [==============================] - 5s 432us/step - loss: 0.4889 - accuracy: 0.7646 - val_loss: 0.5534 - val_accuracy: 0.7314\n",
      "Epoch 165/200\n",
      "10422/10422 [==============================] - 4s 418us/step - loss: 0.4888 - accuracy: 0.7695 - val_loss: 0.5294 - val_accuracy: 0.7567\n",
      "Epoch 166/200\n",
      "10422/10422 [==============================] - 5s 441us/step - loss: 0.4887 - accuracy: 0.7691 - val_loss: 0.4955 - val_accuracy: 0.7797\n",
      "Epoch 167/200\n",
      "10422/10422 [==============================] - 5s 457us/step - loss: 0.4883 - accuracy: 0.7645 - val_loss: 0.5105 - val_accuracy: 0.7655\n",
      "Epoch 168/200\n",
      "10422/10422 [==============================] - 4s 413us/step - loss: 0.4889 - accuracy: 0.7671 - val_loss: 0.5188 - val_accuracy: 0.7690\n",
      "Epoch 169/200\n",
      "10422/10422 [==============================] - 4s 401us/step - loss: 0.4865 - accuracy: 0.7712 - val_loss: 0.4930 - val_accuracy: 0.7778\n",
      "Epoch 170/200\n",
      "10422/10422 [==============================] - 6s 542us/step - loss: 0.4884 - accuracy: 0.7673 - val_loss: 0.5222 - val_accuracy: 0.7694\n",
      "Epoch 171/200\n",
      "10422/10422 [==============================] - 7s 626us/step - loss: 0.4915 - accuracy: 0.7672 - val_loss: 0.5061 - val_accuracy: 0.7763\n",
      "Epoch 172/200\n",
      "10422/10422 [==============================] - 5s 439us/step - loss: 0.4898 - accuracy: 0.7677 - val_loss: 0.5191 - val_accuracy: 0.7701\n",
      "Epoch 173/200\n",
      "10422/10422 [==============================] - 6s 547us/step - loss: 0.4919 - accuracy: 0.7722 - val_loss: 0.5193 - val_accuracy: 0.7663\n",
      "Epoch 174/200\n",
      "10422/10422 [==============================] - 6s 596us/step - loss: 0.4876 - accuracy: 0.7702 - val_loss: 0.5229 - val_accuracy: 0.7590\n",
      "Epoch 175/200\n",
      "10422/10422 [==============================] - 6s 604us/step - loss: 0.4865 - accuracy: 0.7708 - val_loss: 0.5153 - val_accuracy: 0.7529\n",
      "Epoch 176/200\n",
      "10422/10422 [==============================] - 7s 627us/step - loss: 0.4865 - accuracy: 0.7654 - val_loss: 0.5413 - val_accuracy: 0.7513\n",
      "Epoch 177/200\n",
      "10422/10422 [==============================] - 6s 623us/step - loss: 0.4905 - accuracy: 0.7678 - val_loss: 0.4976 - val_accuracy: 0.7724\n",
      "Epoch 178/200\n",
      "10422/10422 [==============================] - 6s 582us/step - loss: 0.4865 - accuracy: 0.7702 - val_loss: 0.5069 - val_accuracy: 0.7736\n",
      "Epoch 179/200\n",
      "10422/10422 [==============================] - 5s 518us/step - loss: 0.4854 - accuracy: 0.7713 - val_loss: 0.5188 - val_accuracy: 0.7652\n",
      "Epoch 180/200\n",
      "10422/10422 [==============================] - 5s 519us/step - loss: 0.4892 - accuracy: 0.7668 - val_loss: 0.5840 - val_accuracy: 0.7379\n",
      "Epoch 181/200\n",
      "10422/10422 [==============================] - 6s 533us/step - loss: 0.4876 - accuracy: 0.7708 - val_loss: 0.5166 - val_accuracy: 0.7824\n",
      "Epoch 182/200\n",
      "10422/10422 [==============================] - 5s 522us/step - loss: 0.4918 - accuracy: 0.7718 - val_loss: 0.5101 - val_accuracy: 0.7736\n",
      "Epoch 183/200\n",
      "10422/10422 [==============================] - 5s 495us/step - loss: 0.4863 - accuracy: 0.7701 - val_loss: 0.5094 - val_accuracy: 0.7675\n",
      "Epoch 184/200\n",
      "10422/10422 [==============================] - 5s 501us/step - loss: 0.4886 - accuracy: 0.7683 - val_loss: 0.4974 - val_accuracy: 0.7690\n",
      "Epoch 185/200\n",
      "10422/10422 [==============================] - 5s 511us/step - loss: 0.4890 - accuracy: 0.7684 - val_loss: 0.5416 - val_accuracy: 0.7444\n",
      "Epoch 186/200\n",
      "10422/10422 [==============================] - 5s 515us/step - loss: 0.4855 - accuracy: 0.7681 - val_loss: 0.5057 - val_accuracy: 0.7797\n",
      "Epoch 187/200\n",
      "10422/10422 [==============================] - 5s 482us/step - loss: 0.4857 - accuracy: 0.7697 - val_loss: 0.6315 - val_accuracy: 0.6827\n",
      "Epoch 188/200\n",
      "10422/10422 [==============================] - 5s 523us/step - loss: 0.4878 - accuracy: 0.7680 - val_loss: 0.4979 - val_accuracy: 0.7774\n",
      "Epoch 189/200\n",
      "10422/10422 [==============================] - 5s 514us/step - loss: 0.4830 - accuracy: 0.7694 - val_loss: 0.5051 - val_accuracy: 0.7724\n",
      "Epoch 190/200\n",
      "10422/10422 [==============================] - 5s 524us/step - loss: 0.4859 - accuracy: 0.7674 - val_loss: 0.4960 - val_accuracy: 0.7759\n",
      "Epoch 191/200\n",
      "10422/10422 [==============================] - 5s 508us/step - loss: 0.4878 - accuracy: 0.7659 - val_loss: 0.5515 - val_accuracy: 0.7521\n",
      "Epoch 192/200\n",
      "10422/10422 [==============================] - 5s 517us/step - loss: 0.4855 - accuracy: 0.7718 - val_loss: 0.5064 - val_accuracy: 0.7721\n",
      "Epoch 193/200\n",
      "10422/10422 [==============================] - 6s 568us/step - loss: 0.4837 - accuracy: 0.7702 - val_loss: 0.5111 - val_accuracy: 0.7717\n",
      "Epoch 194/200\n",
      "10422/10422 [==============================] - 5s 519us/step - loss: 0.4850 - accuracy: 0.7665 - val_loss: 0.5500 - val_accuracy: 0.7559\n",
      "Epoch 195/200\n",
      "10422/10422 [==============================] - 6s 616us/step - loss: 0.4841 - accuracy: 0.7659 - val_loss: 0.5121 - val_accuracy: 0.7721\n",
      "Epoch 196/200\n",
      "10422/10422 [==============================] - 5s 525us/step - loss: 0.4856 - accuracy: 0.7672 - val_loss: 0.5067 - val_accuracy: 0.7778\n",
      "Epoch 197/200\n",
      "10422/10422 [==============================] - 6s 562us/step - loss: 0.4864 - accuracy: 0.7697 - val_loss: 0.5202 - val_accuracy: 0.7609\n",
      "Epoch 198/200\n",
      "10422/10422 [==============================] - 5s 516us/step - loss: 0.4830 - accuracy: 0.7673 - val_loss: 0.5175 - val_accuracy: 0.7663\n",
      "Epoch 199/200\n",
      "10422/10422 [==============================] - 5s 508us/step - loss: 0.4835 - accuracy: 0.7724 - val_loss: 0.5263 - val_accuracy: 0.7571\n",
      "Epoch 200/200\n",
      "10422/10422 [==============================] - 5s 519us/step - loss: 0.4862 - accuracy: 0.7724 - val_loss: 0.5681 - val_accuracy: 0.7352\n",
      "Test loss: 0.5681223089843188\n",
      "Test accuracy: 0.7352263927459717\n"
     ]
    }
   ],
   "source": [
    "history = model.fit(x_train, y_train.values,batch_size=batch_size,epochs=epochs,verbose=1,validation_data=(x_test, y_test.values))\n",
    "score = model.evaluate(x_test, y_test.values, verbose=0)\n",
    "print('Test loss:', score[0])\n",
    "print('Test accuracy:', score[1])"
   ]
  },
  {
   "cell_type": "code",
   "execution_count": 65,
   "metadata": {},
   "outputs": [
    {
     "data": {
      "text/plain": [
       "Text(0, 0.5, 'Loss')"
      ]
     },
     "execution_count": 65,
     "metadata": {},
     "output_type": "execute_result"
    },
    {
     "data": {
      "image/png": "[encoded data removed]",
      "text/plain": [
       "<Figure size 432x288 with 1 Axes>"
      ]
     },
     "metadata": {
      "needs_background": "light"
     },
     "output_type": "display_data"
    }
   ],
   "source": [
    "plt.plot(history.history[\"loss\"])\n",
    "plt.xlabel(\"Epoch\")\n",
    "plt.ylabel(\"Loss\")"
   ]
  },
  {
   "cell_type": "code",
   "execution_count": 46,
   "metadata": {},
   "outputs": [],
   "source": [
    "def get_confusion_matrices(y_pred,y_test,bias=False, additional_measures=False):\n",
    "    #Calculate confusion matrix\n",
    "    if bias == False:\n",
    "        bias = .5\n",
    "    y_pred = y_pred > bias\n",
    "    y_test = pd.DataFrame(y_test, dtype=np.int32)\n",
    "    y_pred = np.array(y_pred, dtype=np.int32)\n",
    "    y_test = pd.DataFrame(y_test)\n",
    "    false_negatives = np.sum(np.logical_and(y_test == 1,y_pred==0),axis=0)#y_test is 1 while y_pred did not indicate\n",
    "    false_positives = np.sum(np.logical_and(y_test == 0,y_pred==1),axis=0)#y_test is 0 while y_pred say it was 1\n",
    "    true_positives = np.sum(np.logical_and(y_test == 1,y_pred==1),axis=0)#both indicate 1\n",
    "    true_negatives = np.sum(np.logical_and(y_test == 0,y_pred==0),axis=0)#both indicate 0\n",
    "    summary = pd.DataFrame()\n",
    "    summary['False positive'] = false_positives\n",
    "    summary['False negative'] = false_negatives\n",
    "    summary['True positive'] = true_positives\n",
    "    summary['True negative'] = true_negatives\n",
    "    summary = pd.DataFrame(summary)\n",
    "    #print(summary.sum(axis=1)[0])\n",
    "    summary_percent = (summary/summary.sum(axis=1)[0])\n",
    "    if additional_measures:\n",
    "        #summary_percent['Accuracy'] = summary_percent['True positive'] + summary_percent['True negative']\n",
    "        summary_percent['Sensitivity'] = summary_percent['True positive']/(summary_percent['True positive']+summary_percent['False negative'])\n",
    "        summary_percent['Specificity'] = summary_percent['True negative']/(summary_percent['True negative']+summary_percent['False positive'])\n",
    "\n",
    "    return summary, summary_percent"
   ]
  },
  {
   "cell_type": "code",
   "execution_count": 47,
   "metadata": {},
   "outputs": [],
   "source": [
    "y_pred = model.predict(x_test)\n",
    "conf = get_confusion_matrices(y_pred, y_test,False,True)"
   ]
  },
  {
   "cell_type": "code",
   "execution_count": 48,
   "metadata": {},
   "outputs": [
    {
     "data": {
      "text/html": [
       "<div>\n",
       "<style scoped>\n",
       "    .dataframe tbody tr th:only-of-type {\n",
       "        vertical-align: middle;\n",
       "    }\n",
       "\n",
       "    .dataframe tbody tr th {\n",
       "        vertical-align: top;\n",
       "    }\n",
       "\n",
       "    .dataframe thead th {\n",
       "        text-align: right;\n",
       "    }\n",
       "</style>\n",
       "<table border=\"1\" class=\"dataframe\">\n",
       "  <thead>\n",
       "    <tr style=\"text-align: right;\">\n",
       "      <th></th>\n",
       "      <th>False positive</th>\n",
       "      <th>False negative</th>\n",
       "      <th>True positive</th>\n",
       "      <th>True negative</th>\n",
       "    </tr>\n",
       "  </thead>\n",
       "  <tbody>\n",
       "    <tr>\n",
       "      <th>is_bended</th>\n",
       "      <td>499</td>\n",
       "      <td>191</td>\n",
       "      <td>882</td>\n",
       "      <td>1034</td>\n",
       "    </tr>\n",
       "  </tbody>\n",
       "</table>\n",
       "</div>"
      ],
      "text/plain": [
       "           False positive  False negative  True positive  True negative\n",
       "is_bended             499             191            882           1034"
      ]
     },
     "execution_count": 48,
     "metadata": {},
     "output_type": "execute_result"
    }
   ],
   "source": [
    "conf[0]"
   ]
  },
  {
   "cell_type": "code",
   "execution_count": 63,
   "metadata": {},
   "outputs": [
    {
     "data": {
      "text/html": [
       "<div>\n",
       "<style scoped>\n",
       "    .dataframe tbody tr th:only-of-type {\n",
       "        vertical-align: middle;\n",
       "    }\n",
       "\n",
       "    .dataframe tbody tr th {\n",
       "        vertical-align: top;\n",
       "    }\n",
       "\n",
       "    .dataframe thead th {\n",
       "        text-align: right;\n",
       "    }\n",
       "</style>\n",
       "<table border=\"1\" class=\"dataframe\">\n",
       "  <thead>\n",
       "    <tr style=\"text-align: right;\">\n",
       "      <th></th>\n",
       "      <th>False positive</th>\n",
       "      <th>False negative</th>\n",
       "      <th>True positive</th>\n",
       "      <th>True negative</th>\n",
       "      <th>Sensitivity</th>\n",
       "      <th>Specificity</th>\n",
       "    </tr>\n",
       "  </thead>\n",
       "  <tbody>\n",
       "    <tr>\n",
       "      <th>is_bended</th>\n",
       "      <td>0.19</td>\n",
       "      <td>0.07</td>\n",
       "      <td>0.34</td>\n",
       "      <td>0.4</td>\n",
       "      <td>0.82</td>\n",
       "      <td>0.67</td>\n",
       "    </tr>\n",
       "  </tbody>\n",
       "</table>\n",
       "</div>"
      ],
      "text/plain": [
       "           False positive  False negative  True positive  True negative  \\\n",
       "is_bended            0.19            0.07           0.34            0.4   \n",
       "\n",
       "           Sensitivity  Specificity  \n",
       "is_bended         0.82         0.67  "
      ]
     },
     "execution_count": 63,
     "metadata": {},
     "output_type": "execute_result"
    }
   ],
   "source": [
    "conf[1].round(2)"
   ]
  },
  {
   "cell_type": "code",
   "execution_count": 64,
   "metadata": {},
   "outputs": [
    {
     "data": {
      "text/plain": [
       "'\\\\begin{tabular}{lrrrrrr}\\n\\\\toprule\\n{} &  False positive &  False negative &  True positive &  True negative &  Sensitivity &  Specificity \\\\\\\\\\n\\\\midrule\\nis\\\\_bended &            0.19 &            0.07 &           0.34 &            0.4 &         0.82 &         0.67 \\\\\\\\\\n\\\\bottomrule\\n\\\\end{tabular}\\n'"
      ]
     },
     "execution_count": 64,
     "metadata": {},
     "output_type": "execute_result"
    }
   ],
   "source": [
    "conf[1].round(2).to_latex()"
   ]
  },
  {
   "cell_type": "code",
   "execution_count": 50,
   "metadata": {},
   "outputs": [],
   "source": [
    "conf[1].to_csv(\"confusion_matrix_angles.csv\")"
   ]
  },
  {
   "cell_type": "code",
   "execution_count": 69,
   "metadata": {},
   "outputs": [],
   "source": [
    "def sigmoid(x):\n",
    "    return 1 / (1 + np.exp(-x))\n",
    "\n",
    "def roc_characteristic(y_pred,y_test):\n",
    "    fpr = []\n",
    "    tpr = []\n",
    "    biases = []\n",
    "    for bias in np.linspace(-50,50,1000):\n",
    "        print(\".\",end=\"\")\n",
    "        summary, _ = get_confusion_matrices(y_pred,y_test,bias=np.abs(sigmoid(bias)))\n",
    "        fpv = summary[\"False positive\"]/(summary[\"False positive\"]+summary[\"True negative\"])\n",
    "        tpv = summary[\"True positive\"]/(summary[\"True positive\"]+summary[\"False negative\"])\n",
    "        biases.append(bias)\n",
    "        fpr.append(fpv)\n",
    "        tpr.append(tpv)\n",
    "    return np.array([np.array(fpr), np.array(tpr)])"
   ]
  },
  {
   "cell_type": "code",
   "execution_count": 70,
   "metadata": {},
   "outputs": [
    {
     "name": "stdout",
     "output_type": "stream",
     "text": [
      "........................................................................................................................................................................................................................................................................................................................................................................................................................................................................................................................................................................................................................................................................................................................................................................................................................................................................................................................................................................................................................................"
     ]
    }
   ],
   "source": [
    "roc = roc_characteristic(model.predict(x_test), y_test)"
   ]
  },
  {
   "cell_type": "code",
   "execution_count": 71,
   "metadata": {},
   "outputs": [
    {
     "data": {
      "text/plain": [
       "[<matplotlib.lines.Line2D at 0x7fa4b01291d0>]"
      ]
     },
     "execution_count": 71,
     "metadata": {},
     "output_type": "execute_result"
    },
    {
     "data": {
      "image/png": "[encoded data removed]",
      "text/plain": [
       "<Figure size 432x288 with 1 Axes>"
      ]
     },
     "metadata": {
      "needs_background": "light"
     },
     "output_type": "display_data"
    }
   ],
   "source": [
    "plt.plot(*roc)"
   ]
  },
  {
   "cell_type": "code",
   "execution_count": 72,
   "metadata": {},
   "outputs": [],
   "source": [
    "np.save(\"roc_angles.npy\",roc)"
   ]
  },
  {
   "cell_type": "markdown",
   "metadata": {},
   "source": [
    "# Sources & further reading\n",
    "- https://stackoverflow.com/questions/44164749/how-does-keras-handle-multilabel-classification\n",
    "- https://math.stackexchange.com/questions/225047/estimate-confidence-interval-for-true-positive-rate-and-false-positive-rate"
   ]
  }
 ],
 "metadata": {
  "kernelspec": {
   "display_name": "Python 3",
   "language": "python",
   "name": "python3"
  },
  "language_info": {
   "codemirror_mode": {
    "name": "ipython",
    "version": 3
   },
   "file_extension": ".py",
   "mimetype": "text/x-python",
   "name": "python",
   "nbconvert_exporter": "python",
   "pygments_lexer": "ipython3",
   "version": "3.7.3"
  }
 },
 "nbformat": 4,
 "nbformat_minor": 2
}
