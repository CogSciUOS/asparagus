{
 "cells": [
  {
   "cell_type": "code",
   "execution_count": 5,
   "metadata": {},
   "outputs": [],
   "source": [
    "import os\n",
    "import numpy as np\n",
    "import matplotlib.pyplot as plt\n",
    "from matplotlib.colors import rgb_to_hsv"
   ]
  },
  {
   "cell_type": "code",
   "execution_count": 21,
   "metadata": {},
   "outputs": [],
   "source": [
    "def extract_thickness(img):\n",
    "    \"\"\"\n",
    "    Guess what, it extracts the thickness -- needs calibration though\n",
    "    \"\"\"\n",
    "    pass\n",
    "\n",
    "def extract_rust(img):\n",
    "    \"\"\"\n",
    "    Extracts whether an asparagus-img is rusty.\n",
    "    \"\"\"\n",
    "    pass\n",
    "\n",
    "def extract_violet(img):\n",
    "    \"\"\"\n",
    "    Extracts whether an asparagus-img is violet\n",
    "    \"\"\"\n",
    "    thres = 0.1\n",
    "    hsv = rgb_to_hsv(img)\n",
    "    histvals, edges = np.histogram(hsv[:,:,0])\n",
    "    return np.sum(histvals[7:9])/np.sum(histvals) > thres"
   ]
  },
  {
   "cell_type": "code",
   "execution_count": 22,
   "metadata": {},
   "outputs": [
    {
     "name": "stdout",
     "output_type": "stream",
     "text": [
      "[235960   1491   1208   2618    712    431  27799   8856   6408  14517]\n",
      "[0.         0.09962121 0.19924243 0.29886365 0.39848486 0.49810606\n",
      " 0.5977273  0.6973485  0.7969697  0.8965909  0.9962121 ]\n",
      "0.05088\n"
     ]
    }
   ],
   "source": [
    "target_dir = \"clean_images\"\n",
    "testimg = plt.imread(os.path.join(target_dir, \"0_0.jpg\"))\n",
    "extract_violet(testimg)"
   ]
  },
  {
   "cell_type": "code",
   "execution_count": null,
   "metadata": {},
   "outputs": [],
   "source": [
    "def extract_features(img):\n",
    "    return {\"thickness\":extract_thickness(img),\n",
    "            \"rust\":extract_rust(img),\n",
    "            \"violet\":extract_violet(img)}\n",
    "   \n",
    "\n",
    "def feature_extraction_pipeline(target_dir):\n",
    "    files = sorted([f for f in os.listdir(target_dir) if os.path.isfile(os.path.join(target_dir, f)) and not f[0] == \".\" and f[-4:] == \".jpg\"])\n",
    "    for f in files:\n",
    "        img = plt.imread(f)\n"
   ]
  }
 ],
 "metadata": {
  "kernelspec": {
   "display_name": "Python 3",
   "language": "python",
   "name": "python3"
  },
  "language_info": {
   "codemirror_mode": {
    "name": "ipython",
    "version": 3
   },
   "file_extension": ".py",
   "mimetype": "text/x-python",
   "name": "python",
   "nbconvert_exporter": "python",
   "pygments_lexer": "ipython3",
   "version": "3.6.6"
  }
 },
 "nbformat": 4,
 "nbformat_minor": 2
}
