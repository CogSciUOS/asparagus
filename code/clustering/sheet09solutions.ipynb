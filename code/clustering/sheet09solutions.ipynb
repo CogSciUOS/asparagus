{
 "cells": [
  {
   "cell_type": "markdown",
   "metadata": {},
   "source": [
    "Osnabrück University - Machine Learning (Summer Term 2016) - Prof. Dr.-Ing. G. Heidemann, Ulf Krumnack"
   ]
  },
  {
   "cell_type": "markdown",
   "metadata": {},
   "source": [
    "# Exercise Sheet 09"
   ]
  },
  {
   "cell_type": "markdown",
   "metadata": {},
   "source": [
    "## Introduction\n",
    "\n",
    "This week's sheet should be solved and handed in before the end of **Sunday, June 19, 2016**. If you need help (and Google and other resources were not enough), feel free to contact your groups' designated tutor or whomever of us you run into first. Please upload your results to your group's Stud.IP folder."
   ]
  },
  {
   "cell_type": "markdown",
   "metadata": {},
   "source": [
    "## Assignment 1: Self-Organizing Maps [6 Points]\n",
    "\n",
    "In the past you already briefly discussed self-organizing maps. In this exercise you will implement a self-organizing map and use it for a beautiful application: coloring countries having similar statistics in similar colors. \n",
    "\n",
    "### Additional Information about the Data\n",
    "\n",
    "The data is taken from the [World Bank's World DataBank](http://databank.worldbank.org/data/home.aspx) and preprocessed. Since their data is very sparse we just tried to use the latest possible data for each country in each category. This means there can be data from the 1960 but also from 2015 - for the exercise this shouldn't matter too much. Note that some countries don't have data at all.\n",
    "\n",
    "The [blank map](https://en.wikipedia.org/wiki/File:BlankMap-World6-Equirectangular.svg) is taken from wikipedia. It is an [SVG](https://en.wikipedia.org/wiki/Scalable_Vector_Graphics) file which suits this task well: We can easily display it in Jupyter Notebooks and it is very easy to color them, as this just involves a modification of their style sheet. You can find the code to do this below, you just have to figure out how to use it."
   ]
  },
  {
   "cell_type": "markdown",
   "metadata": {},
   "source": [
    "### Coloring the Map\n",
    "\n",
    "The following cell defines a method to create a colored version of the empty map and shows an example usage of it.\n",
    "\n",
    "As you can see, the mapping parameter is a dictionary mapping lowercase [ISO 3166-2](https://en.wikipedia.org/wiki/ISO_3166-2) country codes to `[R, G, B]` values which range from `0` to `1`."
   ]
  },
  {
   "cell_type": "code",
   "execution_count": null,
   "metadata": {},
   "outputs": [],
   "source": [
    "from IPython.display import SVG, display_svg\n",
    "from xml.etree import cElementTree as ET\n",
    "import time\n",
    "\n",
    "def create_colored_map(color_mapping, scaling=0.7, display=True):\n",
    "    \"\"\"\n",
    "    Takes a color mapping to create a world map with the specified \n",
    "    colors.\n",
    "    For example:\n",
    "    \n",
    "    mapping = {'de': [1, 0, 0],\n",
    "               'fr': [0, 1, 0]}\n",
    "    create_and_display_colored_map(mapping)\n",
    "    \n",
    "    will create a worldmap and display it with Germany ('de') \n",
    "    colored red and France ('fr') colored green.\n",
    "    Colors need to be iterables containing R G B values ranging\n",
    "    from 0 (dark) to 1 (bright).\n",
    "    \n",
    "    The template used for the map can be found here:\n",
    "    https://en.wikipedia.org/wiki/File:BlankMap-World6-Equirectangular.svg\n",
    "    \n",
    "    Args:\n",
    "        mapping     A color mapping between country codes and colors.\n",
    "        scaling     Scales the map by this factor. \n",
    "        display     If True, the image is displayed, if False, it is\n",
    "                    returned.\n",
    "    Returns:\n",
    "        The svg image if display=False. Else nothing.\n",
    "    \"\"\"\n",
    "    def color_css(color_mapping, map_id):\n",
    "        \"\"\"Creates a CSS string for the color mapping.\"\"\"\n",
    "        tmpl = '#{4} .{0} {{fill: #{1:0>2x}{2:0>2x}{3:0>2x} !important;}}'\n",
    "        scale = lambda x : [int(255 * i) for i in x]\n",
    "        return '\\n' + '\\n'.join([tmpl.format(country.lower(), *scale(color), map_id) for country, color in color_mapping.items()])\n",
    "\n",
    "    # Read SVG file and get document root.\n",
    "    tree = ET.parse('map.svg')\n",
    "    root = tree.getroot()\n",
    "    \n",
    "    # Adjust the ID (Otherwise coloring will be global for all SVG images).\n",
    "    time.sleep(1)\n",
    "    root.attrib['id'] = \"{}{}\".format(root.attrib['id'], str(time.time())[0:10])\n",
    "    \n",
    "    # Search the style element and append the color mapping.\n",
    "    style_element = tree.find('{http://www.w3.org/2000/svg}style')\n",
    "    style_element.text = style_element.text + color_css(color_mapping, root.attrib['id'])\n",
    "\n",
    "    # Adjust the image scale.\n",
    "    root.attrib['height'] = str(float(root.attrib['height']) * scaling)\n",
    "    root.attrib['width'] = str(float(root.attrib['width']) * scaling)\n",
    "    \n",
    "    # Create an SVG instance which can be displayed by Jupyter.\n",
    "    svg = SVG(data=ET.tostring(root).decode('UTF-8').replace('ns0:',''))\n",
    "    if display:\n",
    "        display_svg(svg)\n",
    "    else:\n",
    "        return svg\n",
    "\n",
    "# Example for coloring the map.\n",
    "mapping = {'de': [1, 0, 0], \n",
    "           'fr': [0, 1, 0], \n",
    "           'us': [0, 0, 1]}\n",
    "create_colored_map(mapping, scaling=0.4)"
   ]
  },
  {
   "cell_type": "markdown",
   "metadata": {},
   "source": [
    "### a) Implement a Self-Organizing Map.\n",
    "\n",
    "Below is a class definition for a self-organizing map. The initialization is already provided. Follow the instruction below to finish it.\n",
    "\n",
    "1. Write a method `get_best_matching_index(self, X)` which returns the indices of the node with the weights closest to `X`. Use the `cdist` function to calculate the distances between `X` and all nodes. *Note:* You might need `unravel_index`.\n",
    "\n",
    "1. Write a method `alpha(self, step, max_steps)` which defines the decaying learning rate. One possible formula for step $s$ of $S$ steps is:\n",
    "$$\\alpha(s, S) = 0.1 \\exp\\left(-\\frac{s}{S-s}\\right)$$\n",
    "\n",
    "1. Write a method `theta(self, u, v, step, max_steps)` which defines the decaying neighborhood function. One possible formula for the coordinates of the best matching node $u$, the coordinates of the node $v$, $n$ the maximum number of nodes in one direction, and step $s$ of $S$ steps is: \n",
    "$$\\begin{align*}   r &= n \\exp\\left( -\\frac{s \\log(n)}{S} \\right) \\\\\n",
    "  \\theta(u, v, s, S) &= \\exp\\left(-\\frac{||u - v||^2}{2r^2}\\right)\\end{align*}$$\n",
    "\n",
    "1. Write a function `organize(self, max_steps)` which trains the map for `max_steps` steps. Pick a random data sample $X$, calculate the best matching indices $u$ and update each node $v_i$ (with $w_{v_i}$ being the corresponding weight vector) according to the following formula ($s$, $S$, $\\theta$ and $\\alpha$ are as above): \n",
    "$$\\Delta w_{v_i} = \\theta(u, v_i, s, S)\\ (X - w_{v_i})\\ \\alpha(s, S)$$"
   ]
  },
  {
   "cell_type": "code",
   "execution_count": null,
   "metadata": {
    "collapsed": true
   },
   "outputs": [],
   "source": [
    "%matplotlib inline\n",
    "import numpy as np\n",
    "from scipy.spatial.distance import cdist\n",
    "import matplotlib.pyplot as plt\n",
    "\n",
    "class SelfOrganizingMap:\n",
    "    \"\"\"Implements a self-organizing map.\"\"\"\n",
    "    \n",
    "    def __init__(self, data, map_size=(20,20), method='distance'):\n",
    "        \"\"\"\n",
    "        Creates a grid self.nodes of map_size[0] x map_size[1] \n",
    "        many nodes with random weights for each dimension in the \n",
    "        data. This means self.nodes.shape will be \n",
    "        (map_size[0], map_size[1], data.shape[-1]).\n",
    "        \n",
    "        Stores the data in self.data.\n",
    "        \n",
    "        Args:\n",
    "            data        The data to fit with this map.\n",
    "            map_size    The size of the map. Defaults to 20x20.\n",
    "            method      The activation method. Supports 'distance' and 'activation'.\n",
    "        \"\"\"\n",
    "        self.nodes = np.random.rand(map_size[0], map_size[1], data.shape[-1])\n",
    "        self.data = data\n",
    "        self.method = method\n",
    "    \n",
    "    def theta(self, u, v, step, max_steps):\n",
    "        \"\"\"\n",
    "        The neighborhood function. \n",
    "        \n",
    "        Args:\n",
    "            u           The best matching node's grid coordinates.\n",
    "            v           Grid coordinates of the (possible) neighboring node.\n",
    "            step        The current step.\n",
    "            max_steps   The maximum number of steps.\n",
    "        \n",
    "        Returns:\n",
    "            A weight of how strong the neighborhood relation between\n",
    "            u and v is at step of max_steps.\n",
    "        \"\"\"\n",
    "        # TODO: Implement this method.\n",
    "        max_shape = max(self.nodes.shape[0:2])\n",
    "        r = max_shape * np.exp(-(step * np.log(max_shape)) / max_steps)\n",
    "        return np.exp(-np.linalg.norm(u - v) ** 2 / (2 * r ** 2))\n",
    "\n",
    "    def alpha(self, step, max_steps):\n",
    "        \"\"\"\n",
    "        The learning rate. Decays with step.\n",
    "        \n",
    "        Args:\n",
    "            step        The current step.\n",
    "            max_steps   The maximum number of steps.\n",
    "        \"\"\"\n",
    "        # TODO: Implement this method.\n",
    "        return 0.1 * np.exp(-step / (max_steps - step))\n",
    "\n",
    "    def organize(self, max_steps):\n",
    "        \"\"\"\n",
    "        For steps this method organizes the map with its data.\n",
    "        \n",
    "        In each step it picks a random sample from the data and\n",
    "        calculates the best matching node.\n",
    "        The best matching node's indices are calculated with \n",
    "        get_best_matching_index.\n",
    "        Using the indices of that node, all nodes are\n",
    "        updated by applying alpha and theta.\n",
    "        \n",
    "        Args:\n",
    "            max_steps   The number of steps.\n",
    "        \"\"\"\n",
    "        # TODO: Implement this method.\n",
    "        for step in range(max_steps):\n",
    "            X = self.data[np.random.randint(0, len(self.data))]\n",
    "            best_match = self.get_best_matching_index(X)\n",
    "\n",
    "            for row_idx in range(self.nodes.shape[0]):\n",
    "                for col_idx in range(self.nodes.shape[1]):\n",
    "                    theta = self.theta(best_match, np.array([row_idx, col_idx]), step, max_steps)\n",
    "                    alpha = self.alpha(step, max_steps)\n",
    "                    delta = X - self.nodes[row_idx, col_idx]\n",
    "                    self.nodes[row_idx, col_idx] += theta * delta * alpha\n",
    "    \n",
    "    def get_best_matching_index(self, X):\n",
    "        \"\"\"\n",
    "        Calculates the best matching node for data sample X.\n",
    "        Depending on the method used (see __init__), a different\n",
    "        approach is used.\n",
    "        \n",
    "        method 'distance': \n",
    "            Finds the best matching node by minimal distance:\n",
    "                argmin(||n-x||)\n",
    "        other method ('activation'): \n",
    "            Finds the best matching node by maximal excitation:\n",
    "                argmax(nx)\n",
    "        \n",
    "        Args:\n",
    "            X       The data point.\n",
    "        Returns:\n",
    "            The grid coordinates of the best matching node.\n",
    "        \"\"\"\n",
    "        # TODO: Implement this method.\n",
    "        reshaped_nodes = self.nodes.reshape(-1, self.nodes.shape[-1])\n",
    "        if self.method == 'distance':\n",
    "            distances = cdist(X[np.newaxis], reshaped_nodes)\n",
    "            best_matching_1D_index = np.argmin(distances)\n",
    "        else: # method == 'activation'\n",
    "            activations = np.sum(np.multiply(X[np.newaxis], reshaped_nodes), 1)\n",
    "            best_matching_1D_index = np.argmax(activations)\n",
    "        return np.array(np.unravel_index(best_matching_1D_index, self.nodes.shape[0:2]))\n",
    "\n",
    "    def __getitem__(self, key):\n",
    "        \"\"\"\n",
    "        Allows to access the nodes via the self-organizing map directly.\n",
    "        \n",
    "        som[4,2] \n",
    "        is thus same as \n",
    "        som.nodes[4,2]\n",
    "        \n",
    "        Args:\n",
    "            key The key (can be a slice or similar).\n",
    "        Returns:\n",
    "            self.nodes[key]\n",
    "        \"\"\"\n",
    "        return self.nodes[key]\n",
    "\n",
    "    def plot(self):\n",
    "        \"\"\"Plots the map's first three features as an image.\"\"\"\n",
    "        plt.imshow(self.nodes[:,:,0:3], interpolation='none')"
   ]
  },
  {
   "cell_type": "markdown",
   "metadata": {},
   "source": [
    "### b) Apply the Self-Organizing Map\n",
    "\n",
    "Now apply your self-organizing map on some data.\n",
    "\n",
    "We already generate simple color data for you - you can change it if you like.\n",
    "\n",
    "1. Load `world_data.csv`. We recommend using a `csv.reader` for this, as the first column contains strings: the labels you need to use to accomplish the mapping.\n",
    "\n",
    "1. The data has some invalid values (np.nan). Use the `Imputer` (check the imports) to fill them.\n",
    "\n",
    "1. Additionally the data has to be scaled. Use `scale` (check the imports) for this.\n",
    "\n",
    "1. Create two instances of the `SelfOrganizingMap` and organize them, one for the colors and one for the countries. Take care that both have the same sizes."
   ]
  },
  {
   "cell_type": "code",
   "execution_count": null,
   "metadata": {},
   "outputs": [],
   "source": [
    "%matplotlib inline\n",
    "import csv\n",
    "import itertools\n",
    "import numpy as np\n",
    "import matplotlib.pyplot as plt\n",
    "from sklearn.preprocessing import Imputer as Imputer, scale as scale\n",
    "\n",
    "# Generate color data.\n",
    "colors = np.array(list(itertools.product([0, 1], repeat=3)))\n",
    "\n",
    "# TODO: Read world data.\n",
    "with open('world_data.csv', 'r') as in_file:\n",
    "    input_data = list(csv.reader(in_file))[1:]\n",
    "countries = np.array([[d[0], d[1]] for d in input_data], dtype='str_')\n",
    "country_data = np.array([d[2:] for d in input_data], dtype='float_')\n",
    "country_data = scale(Imputer(axis=0).fit_transform(country_data), axis=0)\n",
    "\n",
    "map_size = (20, 20)\n",
    "max_steps = 400\n",
    "\n",
    "# TODO: Create color map and organize it.\n",
    "som_colors = SelfOrganizingMap(colors, map_size)\n",
    "som_colors.organize(max_steps)\n",
    "print('Organized colors by distance.')\n",
    "\n",
    "som_colors_act = SelfOrganizingMap(colors, map_size, method='activation')\n",
    "som_colors_act.organize(max_steps)\n",
    "print('Organized colors by activation.')\n",
    "\n",
    "# TODO: Create country map and organize it.\n",
    "som_countries = SelfOrganizingMap(country_data, map_size)\n",
    "som_countries.organize(max_steps)\n",
    "print('Organized countries by distance.')\n",
    "\n",
    "som_countries_act = SelfOrganizingMap(country_data, map_size, method='activation')\n",
    "som_countries_act.organize(max_steps)\n",
    "print('Organized countries by activation.')\n",
    "\n",
    "# Take a look at the results.\n",
    "plt.figure('SOM')\n",
    "plt.subplot(221).set_title('Colors by Distance')\n",
    "som_colors.plot()\n",
    "plt.subplot(222).set_title('Countries by Distance')\n",
    "som_countries.plot()\n",
    "plt.subplot(223).set_title('Colors by Activation')\n",
    "som_colors_act.plot()\n",
    "plt.subplot(224).set_title('Countries by Activation')\n",
    "som_countries_act.plot()"
   ]
  },
  {
   "cell_type": "markdown",
   "metadata": {},
   "source": [
    "Select the best matching indices for each country from the country map. Use those indices to select the corresponding color from the color map. Create the mapping from ISO codes to colors and use the `create_colored_map` function to produce the colored SVG map."
   ]
  },
  {
   "cell_type": "code",
   "execution_count": null,
   "metadata": {},
   "outputs": [],
   "source": [
    "# TODO: Match countries to colors.\n",
    "mapping = {}\n",
    "for i, country_d in enumerate(country_data):\n",
    "    x, y = som_countries.get_best_matching_index(country_d)\n",
    "    mapping[countries[i,1]] = som_colors[x,y]\n",
    "\n",
    "# TODO: Create colored map.\n",
    "create_colored_map(mapping)\n",
    "\n",
    "# TODO: Match countries to colors.\n",
    "mapping_act = {}\n",
    "for i, country_d in enumerate(country_data):\n",
    "    x, y = som_countries_act.get_best_matching_index(country_d)\n",
    "    mapping_act[countries[i,1]] = som_colors_act[x,y]\n",
    "\n",
    "# TODO: Create colored map.\n",
    "create_colored_map(mapping_act)"
   ]
  },
  {
   "cell_type": "markdown",
   "metadata": {},
   "source": [
    "## Assignment 2: Self-Organizing Maps Theory [4 Points]\n",
    "\n",
    "This exercise will highlight the theoretical differences of SOM's to other algorithms we already took a look at. There is again some research involved if the answers are not directly clear from the slides (or even better: your own ideas!)"
   ]
  },
  {
   "cell_type": "markdown",
   "metadata": {},
   "source": [
    "### a) How is learning in such a network achieved? (As opposed to techniques used in MLP?) "
   ]
  },
  {
   "cell_type": "raw",
   "metadata": {},
   "source": [
    "In self-organizing maps the nodes take part in competitive learning. They compete for each input and a winner is dertermined whos weights (and the weights of his neighbors) are the only weights that are adapted. MLPs use error correction learning where a delta of the output to a target value is computed and used to adapt all weights in the network."
   ]
  },
  {
   "cell_type": "markdown",
   "metadata": {
    "collapsed": true
   },
   "source": [
    "### b) In the task above we initialize the nodes randomly - what would be an alternative?"
   ]
  },
  {
   "cell_type": "raw",
   "metadata": {},
   "source": [
    "The nodes/weights can be sampled from the subspace spanned by the larges principal components. With this method learning should become faster since the nodes already have a good initial fit to the structure of the data. This method only works if the dataset is not essentially non-linear, in such a case the random initialization works better."
   ]
  },
  {
   "cell_type": "markdown",
   "metadata": {},
   "source": [
    "### c) Why are self-organizing maps possibly interesting for cognitive scientists in general?"
   ]
  },
  {
   "cell_type": "raw",
   "metadata": {},
   "source": [
    "It could be argued that self-organizing maps work in a way similar as the brain when it handels different sensory input in different parts of the brain. The areas themselves are topologically structured in a way that similar inputs activate the same area (just like the SOMs as well)"
   ]
  },
  {
   "cell_type": "markdown",
   "metadata": {},
   "source": [
    "## Assignment 3: Probability Theory [4 Points]\n",
    "\n",
    "Consider three bags filled with three types of candy. The table below indicates for each bag how many candies of each type are in each bag.\n",
    "\n",
    "| contains        || green candy | blue candy | red candy || total |\n",
    "|-----------------||-------------|------------|-----------||-------|\n",
    "|                 ||             |            |           ||       |\n",
    "| **cyan bag**    ||          10 |          4 |         2 ||    16 |\n",
    "| **magenta bag** ||           5 |          7 |         2 ||    14 |\n",
    "| **yellow bag**  ||           2 |          2 |         8 ||    12 |\n",
    "|                 ||             |            |           ||       |\n",
    "| **total**       ||          17 |         13 |        12 ||    42 |\n",
    "\n",
    "In the following we denote the bags as $B=\\{c,m,y\\}$ and the candies as $C=\\{r, g, b\\}$. So the probability for drawing a blue candy from the cyan bag would be: $P(C=b|B=c)=\\frac{4}{16}=0.25$."
   ]
  },
  {
   "cell_type": "markdown",
   "metadata": {},
   "source": [
    "### a)\n",
    "\n",
    "Give the probabilities for the following events:"
   ]
  },
  {
   "cell_type": "markdown",
   "metadata": {},
   "source": [
    "$$\n",
    "\\begin{align*}\n",
    "P(C=b|B=m) &= \\frac{7}{14} = 0.5 \\\\\n",
    "P(C=g|B=y) &= \\frac{2}{12} = 0.167 \\\\\n",
    "P(C=r) &= \\frac{12}{42} = 0.286 \\\\\n",
    "P(B=y|C=r) &= \\frac{8}{12} = 0.667 \\\\ \n",
    "P(B=c)     &= \\frac{16}{42} = 0.381\n",
    "\\end{align*}\n",
    "$$\n",
    "\n",
    "Note that there is a difference in interpretation possible for $P(C=r)$ and $P(B=c)$. In the above solution we assumed that we do not explicitly draw from the bags first before determining the color. If you encorporate that, the probabilities change to:\n",
    "\n",
    "$$\n",
    "\\begin{align*}\n",
    "P(C=r)'     &= \\frac{1}{3}\\left(\\frac{2}{16}+\\frac{2}{14}+\\frac{8}{12}\\right) = 0.312\\\\\n",
    "P(B=y|C=r)' &=  \\frac{\\frac{1}{3}*\\frac{8}{12}}{\\frac{157}{504}} = 0.713 \\\\\n",
    "\\end{align*}\n",
    "$$\n",
    "\n",
    "Likewise $P(B=c)$ could also be different: If we don't take a look at the candies inside (i.e. don't assume we draw each candy equally likely but draw from the bags equally likely) the probability can be just set a priori to $P(B=c) = \\frac{1}{3}$."
   ]
  },
  {
   "cell_type": "markdown",
   "metadata": {},
   "source": [
    "### b) \n",
    "\n",
    "Let's assume we draw with the following probabilities from each bag: $P(B=c)=0.2$, $P(B=m)=0.7$, $P(B=y)=0.1$.\n",
    "What are the probabilities to draw a green, blue or red candy?"
   ]
  },
  {
   "cell_type": "markdown",
   "metadata": {},
   "source": [
    "$$\\begin{align*}\n",
    "P(C=g) &= \\sum\\limits_{x \\in B}{\\left(P(B=x)\\ P(B=x|C=g)\\right)} = 0.2\\frac{10}{16} + 0.7\\frac{5}{14} + 0.1\\frac{2}{12} = 0.392 \\\\\n",
    "P(C=b) &= \\sum\\limits_{x \\in B}{\\left(P(B=x)\\ P(B=x|C=b)\\right)} = 0.2\\frac{4}{16} + 0.7\\frac{7}{14} + 0.1\\frac{2}{12} = 0.417 \\\\\n",
    "P(C=r) &= \\sum\\limits_{x \\in B}{\\left(P(B=x)\\ P(B=x|C=r)\\right)} = 0.2\\frac{2}{16} + 0.7\\frac{2}{14} + 0.1\\frac{8}{12} = 0.192 \\\\\n",
    "\\end{align*}$$"
   ]
  },
  {
   "cell_type": "markdown",
   "metadata": {},
   "source": [
    "## Assignment 4: Bayes classifier [6 Points]"
   ]
  },
  {
   "cell_type": "markdown",
   "metadata": {},
   "source": [
    "Consider the following data set. There are four features, running nose ($N$), coughing ($C$), reddened skin ($R$), and fever ($F$), each of which can take the values true ($+$) or false ($-$).\n",
    "\n",
    "| Diagnosis ID  | $N$ | $C$ | $R$ | $F$ | Classification     |\n",
    "|---------------|-----|-----|-----|-----|--------------------|\n",
    "|     $d_1$     | $+$ | $+$ | $+$ | $-$ | positive (ill)     |\n",
    "|     $d_2$     | $+$ | $+$ | $-$ | $-$ | positive (ill)     |\n",
    "|     $d_3$     | $-$ | $-$ | $+$ | $+$ | positive (ill)     |\n",
    "|     $d_4$     | $+$ | $-$ | $-$ | $-$ | negative (healthy) |\n",
    "|     $d_5$     | $-$ | $-$ | $-$ | $-$ | negative (healthy) |\n",
    "|     $d_6$     | $-$ | $+$ | $+$ | $-$ | negative (healthy) |\n",
    "\n",
    "Solve the following problems either by hand or programmatically. Assume all features are independent."
   ]
  },
  {
   "cell_type": "markdown",
   "metadata": {},
   "source": [
    "### a)\n",
    "\n",
    "Determine all probabilities required to apply a Bayes classifier for predicting whether a new person is ill or not."
   ]
  },
  {
   "cell_type": "markdown",
   "metadata": {},
   "source": [
    "$$\\begin{align*}\n",
    "P(ill) &= \\frac{1}{2} & P(healthy) &= \\frac{1}{2} \\\\\n",
    "\\\\\n",
    "x &= \\{N, C, R\\}\\\\\n",
    "P(x_\\oplus)   &= \\frac{1}{2} & P(x_\\ominus)   &= \\frac{1}{2} \\\\\n",
    "P(x_\\oplus\\,|\\,ill) &= \\frac{2}{3} & p(x_\\ominus\\,|\\,ill) &= \\frac{1}{3} \\\\\n",
    "P(x_\\oplus\\,|\\,healthy) &= \\frac{1}{3} & P(x_\\ominus\\,|\\,healthy) &= \\frac{2}{3} \\\\\n",
    "\\\\\n",
    "P(F_\\oplus)   &= \\frac{1}{6} & P(F_\\ominus)   &= \\frac{5}{6} \\\\\n",
    "P(F_\\oplus\\,|\\,ill) &= \\frac{1}{3} & P(F_\\ominus\\,|\\,ill) &= \\frac{2}{3} \\\\\n",
    "P(F_\\oplus\\,|\\,healthy) &= 0   & P(F_\\ominus\\,|\\,healthy) &= 1   \\\\\n",
    "\\end{align*}$$"
   ]
  },
  {
   "cell_type": "markdown",
   "metadata": {},
   "source": [
    "### b)\n",
    "Person $p_1$ is coughing and has fever. Person $p_2$ has a running nose and reddened skin. Person $p_3$ is coughing, sufferes from reddened skin and has fever. Determine the probability of being ill for all persons $p1, p2, p3$."
   ]
  },
  {
   "cell_type": "markdown",
   "metadata": {},
   "source": [
    "Using an [alternative form of the Bayes' Theorem](https://en.wikipedia.org/wiki/Bayes%27_theorem#Alternative_form):\n",
    "$$P(A\\,|\\,B) = \\frac{P(B\\,|\\,A)*P(A)}{(P(B\\,|\\,A)*P(A)) + P(B\\,|\\,\\neg A)*P(\\neg A)}$$\n",
    "\n",
    "$$\\begin{align*}\n",
    "P_{p_1}(ill\\,|\\,N_\\ominus, C_\\oplus, R_\\ominus, F_\\oplus) \n",
    "&= \n",
    "\\frac{\n",
    "  \\frac{1}{3}\\frac{2}{3}\\frac{1}{3}\\frac{1}{3} * \\frac{1}{2}\n",
    "}{\n",
    "  \\frac{1}{3}\\frac{2}{3}\\frac{1}{3}\\frac{1}{3} * \\frac{1}{2} + \n",
    "  \\frac{1}{3}\\frac{2}{3}\\frac{1}{3}0 * \\frac{1}{2}\n",
    "}\n",
    "= \\frac{\\frac{2}{81}\\frac{1}{2}}{\\frac{1}{81}+0} \n",
    "= 1\n",
    "\\\\\n",
    "P_{p_2}(ill\\,|\\,N_\\oplus, C_\\ominus, R_\\oplus, F_\\ominus) \n",
    "&= \n",
    "\\frac{\n",
    "  \\frac{2}{3}\\frac{1}{3}\\frac{2}{3}\\frac{2}{3} * \\frac{1}{2}\n",
    "}{\n",
    "  \\frac{2}{3}\\frac{1}{3}\\frac{2}{3}\\frac{2}{3} * \\frac{1}{2} + \n",
    "  \\frac{1}{3}\\frac{2}{3}\\frac{1}{3}1 * \\frac{1}{2}\n",
    "}\n",
    "= \\frac{\\frac{8}{81}\\frac{1}{2}}{\\frac{4}{81}+\\frac{1}{27}} \n",
    "= \\frac{4}{7} \n",
    "\\\\\n",
    "P_{p_3}(ill\\,|\\,N_\\ominus, C_\\oplus, R_\\oplus, F_\\oplus) \n",
    "&= \n",
    "\\frac{\n",
    "  \\frac{1}{3}\\frac{2}{3}\\frac{2}{3}\\frac{1}{3} * \\frac{1}{2}\n",
    "}{\n",
    "  \\frac{1}{3}\\frac{2}{3}\\frac{2}{3}\\frac{1}{3} * \\frac{1}{2} + \n",
    "  \\frac{2}{3}\\frac{1}{3}\\frac{1}{3}0 * \\frac{1}{2}\n",
    "}\n",
    "= \\frac{\\frac{4}{81}\\frac{1}{2}}{\\frac{2}{81}+0} \n",
    "= 1\n",
    "\\end{align*}$$"
   ]
  },
  {
   "cell_type": "code",
   "execution_count": null,
   "metadata": {
    "collapsed": true
   },
   "outputs": [],
   "source": []
  }
 ],
 "metadata": {
  "kernelspec": {
   "display_name": "Python 3",
   "language": "python",
   "name": "python3"
  },
  "language_info": {
   "codemirror_mode": {
    "name": "ipython",
    "version": 3
   },
   "file_extension": ".py",
   "mimetype": "text/x-python",
   "name": "python",
   "nbconvert_exporter": "python",
   "pygments_lexer": "ipython3",
   "version": "3.7.4"
  }
 },
 "nbformat": 4,
 "nbformat_minor": 1
}
