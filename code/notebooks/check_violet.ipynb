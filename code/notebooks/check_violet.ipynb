{
 "cells": [
  {
   "cell_type": "code",
   "execution_count": 1,
   "metadata": {},
   "outputs": [],
   "source": [
    "import os\n",
    "import matplotlib.pyplot as plt\n",
    "import matplotlib\n",
    "from PIL import Image\n",
    "import numpy as np"
   ]
  },
  {
   "cell_type": "code",
   "execution_count": 6,
   "metadata": {},
   "outputs": [
    {
     "data": {
      "text/plain": [
       "array([ True])"
      ]
     },
     "execution_count": 6,
     "metadata": {},
     "output_type": "execute_result"
    }
   ],
   "source": [
    "np.logical_or([1],[0])"
   ]
  },
  {
   "cell_type": "code",
   "execution_count": 10,
   "metadata": {},
   "outputs": [],
   "source": [
    "def preprocess(path):\n",
    "    raw = np.array(Image.open(path))\n",
    "    raw = raw[:,:,0:3]\n",
    "    hsv = matplotlib.colors.rgb_to_hsv(raw)\n",
    "\n",
    "    mask = np.logical_and(hsv[:,:,0]>0.4 , hsv[:,:,0]<0.8)#Mask all blue hues\n",
    "    mask = np.logical_or(hsv[:,:,2]<100,mask)#Mask out values that are not bright engough\n",
    "    \n",
    "    #Use binary hit and miss to remove potentially remaining isolated pixels:\n",
    "    m = np.logical_not(mask)\n",
    "    change = 1\n",
    "    while(change > 0):\n",
    "        a = binary_hit_or_miss(m, [[ 0, -1,  0]]) + binary_hit_or_miss(m, np.array([[ 0, -1,  0]]).T)\n",
    "        m[a] = False\n",
    "        change = 1\n",
    "        plt.imshow(a)\n",
    "    \n",
    "    mask = np.logical_not(m)\n",
    "    raw[:,:,0][mask] = 0\n",
    "    raw[:,:,1][mask] = 0\n",
    "    raw[:,:,2][mask] = 0\n",
    "    return raw\n"
   ]
  },
  {
   "cell_type": "code",
   "execution_count": 11,
   "metadata": {},
   "outputs": [],
   "source": [
    "from scipy.ndimage.morphology import binary_hit_or_miss"
   ]
  },
  {
   "cell_type": "code",
   "execution_count": null,
   "metadata": {},
   "outputs": [
    {
     "ename": "KeyboardInterrupt",
     "evalue": "",
     "output_type": "error",
     "traceback": [
      "\u001b[1;31m---------------------------------------------------------------------------\u001b[0m",
      "\u001b[1;31mKeyboardInterrupt\u001b[0m                         Traceback (most recent call last)",
      "\u001b[1;32m<ipython-input-12-9b1f3bd0ca94>\u001b[0m in \u001b[0;36m<module>\u001b[1;34m\u001b[0m\n\u001b[1;32m----> 1\u001b[1;33m \u001b[0mmask\u001b[0m \u001b[1;33m=\u001b[0m \u001b[0mpreprocess\u001b[0m\u001b[1;33m(\u001b[0m\u001b[0mos\u001b[0m\u001b[1;33m.\u001b[0m\u001b[0mgetcwd\u001b[0m\u001b[1;33m(\u001b[0m\u001b[1;33m)\u001b[0m\u001b[1;33m+\u001b[0m\u001b[1;34m\"/npurp1.png\"\u001b[0m\u001b[1;33m)\u001b[0m\u001b[1;33m\u001b[0m\u001b[0m\n\u001b[0m",
      "\u001b[1;32m<ipython-input-10-9b0f045783c6>\u001b[0m in \u001b[0;36mpreprocess\u001b[1;34m(path)\u001b[0m\n\u001b[0;32m     11\u001b[0m     \u001b[0mchange\u001b[0m \u001b[1;33m=\u001b[0m \u001b[1;36m1\u001b[0m\u001b[1;33m\u001b[0m\u001b[0m\n\u001b[0;32m     12\u001b[0m     \u001b[1;32mwhile\u001b[0m\u001b[1;33m(\u001b[0m\u001b[0mchange\u001b[0m \u001b[1;33m>\u001b[0m \u001b[1;36m0\u001b[0m\u001b[1;33m)\u001b[0m\u001b[1;33m:\u001b[0m\u001b[1;33m\u001b[0m\u001b[0m\n\u001b[1;32m---> 13\u001b[1;33m         \u001b[0ma\u001b[0m \u001b[1;33m=\u001b[0m \u001b[0mbinary_hit_or_miss\u001b[0m\u001b[1;33m(\u001b[0m\u001b[0mm\u001b[0m\u001b[1;33m,\u001b[0m \u001b[1;33m[\u001b[0m\u001b[1;33m[\u001b[0m \u001b[1;36m0\u001b[0m\u001b[1;33m,\u001b[0m \u001b[1;33m-\u001b[0m\u001b[1;36m1\u001b[0m\u001b[1;33m,\u001b[0m  \u001b[1;36m0\u001b[0m\u001b[1;33m]\u001b[0m\u001b[1;33m]\u001b[0m\u001b[1;33m)\u001b[0m \u001b[1;33m+\u001b[0m \u001b[0mbinary_hit_or_miss\u001b[0m\u001b[1;33m(\u001b[0m\u001b[0mm\u001b[0m\u001b[1;33m,\u001b[0m \u001b[0mnp\u001b[0m\u001b[1;33m.\u001b[0m\u001b[0marray\u001b[0m\u001b[1;33m(\u001b[0m\u001b[1;33m[\u001b[0m\u001b[1;33m[\u001b[0m \u001b[1;36m0\u001b[0m\u001b[1;33m,\u001b[0m \u001b[1;33m-\u001b[0m\u001b[1;36m1\u001b[0m\u001b[1;33m,\u001b[0m  \u001b[1;36m0\u001b[0m\u001b[1;33m]\u001b[0m\u001b[1;33m]\u001b[0m\u001b[1;33m)\u001b[0m\u001b[1;33m.\u001b[0m\u001b[0mT\u001b[0m\u001b[1;33m)\u001b[0m\u001b[1;33m\u001b[0m\u001b[0m\n\u001b[0m\u001b[0;32m     14\u001b[0m         \u001b[0mm\u001b[0m\u001b[1;33m[\u001b[0m\u001b[0ma\u001b[0m\u001b[1;33m]\u001b[0m \u001b[1;33m=\u001b[0m \u001b[1;32mFalse\u001b[0m\u001b[1;33m\u001b[0m\u001b[0m\n\u001b[0;32m     15\u001b[0m         \u001b[0mchange\u001b[0m \u001b[1;33m=\u001b[0m \u001b[1;36m1\u001b[0m\u001b[1;33m\u001b[0m\u001b[0m\n",
      "\u001b[1;32m~\\AppData\\Local\\conda\\conda\\envs\\cv\\lib\\site-packages\\scipy\\ndimage\\morphology.py\u001b[0m in \u001b[0;36mbinary_hit_or_miss\u001b[1;34m(input, structure1, structure2, output, origin1, origin2)\u001b[0m\n\u001b[0;32m    877\u001b[0m     \u001b[0minplace\u001b[0m \u001b[1;33m=\u001b[0m \u001b[0misinstance\u001b[0m\u001b[1;33m(\u001b[0m\u001b[0moutput\u001b[0m\u001b[1;33m,\u001b[0m \u001b[0mnumpy\u001b[0m\u001b[1;33m.\u001b[0m\u001b[0mndarray\u001b[0m\u001b[1;33m)\u001b[0m\u001b[1;33m\u001b[0m\u001b[0m\n\u001b[0;32m    878\u001b[0m     result = _binary_erosion(input, structure2, 1, None, output, 0,\n\u001b[1;32m--> 879\u001b[1;33m                              origin2, 1, False)\n\u001b[0m\u001b[0;32m    880\u001b[0m     \u001b[1;32mif\u001b[0m \u001b[0minplace\u001b[0m\u001b[1;33m:\u001b[0m\u001b[1;33m\u001b[0m\u001b[0m\n\u001b[0;32m    881\u001b[0m         \u001b[0mnumpy\u001b[0m\u001b[1;33m.\u001b[0m\u001b[0mlogical_not\u001b[0m\u001b[1;33m(\u001b[0m\u001b[0moutput\u001b[0m\u001b[1;33m,\u001b[0m \u001b[0moutput\u001b[0m\u001b[1;33m)\u001b[0m\u001b[1;33m\u001b[0m\u001b[0m\n",
      "\u001b[1;32m~\\AppData\\Local\\conda\\conda\\envs\\cv\\lib\\site-packages\\scipy\\ndimage\\morphology.py\u001b[0m in \u001b[0;36m_binary_erosion\u001b[1;34m(input, structure, iterations, mask, output, border_value, origin, invert, brute_force)\u001b[0m\n\u001b[0;32m    243\u001b[0m     \u001b[1;32mif\u001b[0m \u001b[0miterations\u001b[0m \u001b[1;33m==\u001b[0m \u001b[1;36m1\u001b[0m\u001b[1;33m:\u001b[0m\u001b[1;33m\u001b[0m\u001b[0m\n\u001b[0;32m    244\u001b[0m         _nd_image.binary_erosion(input, structure, mask, output,\n\u001b[1;32m--> 245\u001b[1;33m                                  border_value, origin, invert, cit, 0)\n\u001b[0m\u001b[0;32m    246\u001b[0m         \u001b[1;32mreturn\u001b[0m \u001b[0moutput\u001b[0m\u001b[1;33m\u001b[0m\u001b[0m\n\u001b[0;32m    247\u001b[0m     \u001b[1;32melif\u001b[0m \u001b[0mcit\u001b[0m \u001b[1;32mand\u001b[0m \u001b[1;32mnot\u001b[0m \u001b[0mbrute_force\u001b[0m\u001b[1;33m:\u001b[0m\u001b[1;33m\u001b[0m\u001b[0m\n",
      "\u001b[1;31mKeyboardInterrupt\u001b[0m: "
     ]
    }
   ],
   "source": [
    "mask = preprocess(os.getcwd()+\"/npurp1.png\")"
   ]
  },
  {
   "cell_type": "code",
   "execution_count": null,
   "metadata": {},
   "outputs": [],
   "source": [
    "plt.imshow(mask)"
   ]
  },
  {
   "cell_type": "code",
   "execution_count": 291,
   "metadata": {},
   "outputs": [],
   "source": [
    "m = np.logical_not(mask)\n"
   ]
  },
  {
   "cell_type": "code",
   "execution_count": null,
   "metadata": {},
   "outputs": [],
   "source": [
    "m = np.logical_not(mask)\n",
    "change = 1\n",
    "while(change > 0):\n",
    "    a = binary_hit_or_miss(m, [[ 0, -1,  0]]) + binary_hit_or_miss(m, np.array([[ 0, -1,  0]]).T)\n",
    "    m[a] = False\n",
    "    change = np.sum(a)\n",
    "    print(change)"
   ]
  },
  {
   "cell_type": "code",
   "execution_count": 293,
   "metadata": {},
   "outputs": [
    {
     "data": {
      "text/plain": [
       "<matplotlib.image.AxesImage at 0x7fe4a13a05c0>"
      ]
     },
     "execution_count": 293,
     "metadata": {},
     "output_type": "execute_result"
    },
    {
     "data": {
      "image/png": "[encoded data removed]",
      "text/plain": [
       "<Figure size 720x720 with 1 Axes>"
      ]
     },
     "metadata": {
      "needs_background": "light"
     },
     "output_type": "display_data"
    }
   ],
   "source": [
    "fix, ax = plt.subplots(figsize=(10,10))\n",
    "ax.imshow(m)"
   ]
  },
  {
   "cell_type": "code",
   "execution_count": null,
   "metadata": {},
   "outputs": [],
   "source": [
    "delete1 = np.asarray([[1,1]])\n",
    "keep1 = np.asarray([[0,1,0]])#True for single pixels\n",
    "delete2 = np.asarray([[1],\n",
    "                      [1]])\n",
    "keep2 = np.asarray([[0],\n",
    "                    [1],\n",
    "                    [0]])\n",
    "\n",
    "delete3 = np.asarray([[0,1],\n",
    "                      [1,0]])\n",
    "delete4 = np.asarray([[1,0],\n",
    "                      [0,1]])\n",
    "\n",
    "\n",
    "for img_id in range(imgs.shape[0]):\n",
    "    for x in range(iterations):#Erode and keep one pixel\n",
    "        imgs[img_id] = binary_hit_or_miss(imgs[img_id],delete1) + binary_hit_or_miss(imgs[img_id],keep1)\n",
    "        imgs[img_id] = binary_hit_or_miss(imgs[img_id],delete2) + binary_hit_or_miss(imgs[img_id],keep2)\n",
    "        imgs[img_id] = np.asarray(imgs[img_id],dtype=np.int32) - np.asarray(binary_hit_or_miss(imgs[img_id],delete3),dtype=np.int32) #Find pattern and delete pixel\n",
    "        imgs[img_id] = np.asarray(imgs[img_id],dtype=np.int32) - np.asarray(binary_hit_or_miss(imgs[img_id],delete4),dtype=np.int32) #Find pattern and delete pixel\n",
    "return imgs"
   ]
  },
  {
   "cell_type": "code",
   "execution_count": 3,
   "metadata": {},
   "outputs": [],
   "source": [
    "#fig,ax = plt.subplots(1,figsize=(15,15))\n",
    "# ax.imshow(preprocess(os.getcwd()+\"/npurp1.png\"))\n",
    "#fig,ax = plt.subplots(1,figsize=(15,15))\n",
    "#ax.imshow(preprocess(os.getcwd()+\"/purp.png\"))"
   ]
  },
  {
   "cell_type": "code",
   "execution_count": 4,
   "metadata": {},
   "outputs": [
    {
     "ename": "NameError",
     "evalue": "name 'preprocess' is not defined",
     "output_type": "error",
     "traceback": [
      "\u001b[1;31m---------------------------------------------------------------------------\u001b[0m",
      "\u001b[1;31mNameError\u001b[0m                                 Traceback (most recent call last)",
      "\u001b[1;32m<ipython-input-4-90eab0abfc83>\u001b[0m in \u001b[0;36m<module>\u001b[1;34m\u001b[0m\n\u001b[1;32m----> 1\u001b[1;33m \u001b[0mpurple\u001b[0m \u001b[1;33m=\u001b[0m \u001b[0mpreprocess\u001b[0m\u001b[1;33m(\u001b[0m\u001b[0mos\u001b[0m\u001b[1;33m.\u001b[0m\u001b[0mgetcwd\u001b[0m\u001b[1;33m(\u001b[0m\u001b[1;33m)\u001b[0m\u001b[1;33m+\u001b[0m\u001b[1;34m\"/npurp1.png\"\u001b[0m\u001b[1;33m)\u001b[0m\u001b[1;31m#np.array(Image.open(os.getcwd()+\"/example_heads_purple.png\"))\u001b[0m\u001b[1;33m\u001b[0m\u001b[0m\n\u001b[0m\u001b[0;32m      2\u001b[0m \u001b[0mwhite\u001b[0m \u001b[1;33m=\u001b[0m \u001b[0mpreprocess\u001b[0m\u001b[1;33m(\u001b[0m\u001b[0mos\u001b[0m\u001b[1;33m.\u001b[0m\u001b[0mgetcwd\u001b[0m\u001b[1;33m(\u001b[0m\u001b[1;33m)\u001b[0m\u001b[1;33m+\u001b[0m\u001b[1;34m\"/npurp1.png\"\u001b[0m\u001b[1;33m)\u001b[0m\u001b[1;31m#np.array(Image.open(os.getcwd()+\"/example_heads_white.png\"))\u001b[0m\u001b[1;33m\u001b[0m\u001b[0m\n",
      "\u001b[1;31mNameError\u001b[0m: name 'preprocess' is not defined"
     ]
    }
   ],
   "source": [
    "purple = preprocess(os.getcwd()+\"/npurp1.png\")#np.array(Image.open(os.getcwd()+\"/example_heads_purple.png\"))\n",
    "white = preprocess(os.getcwd()+\"/npurp1.png\")#np.array(Image.open(os.getcwd()+\"/example_heads_white.png\"))\n"
   ]
  },
  {
   "cell_type": "code",
   "execution_count": 328,
   "metadata": {},
   "outputs": [],
   "source": [
    "purple=purple[:,:,0:3]\n",
    "white=white[:,:,0:3]"
   ]
  },
  {
   "cell_type": "code",
   "execution_count": 329,
   "metadata": {},
   "outputs": [],
   "source": [
    "max_bright = 255"
   ]
  },
  {
   "cell_type": "code",
   "execution_count": 330,
   "metadata": {},
   "outputs": [],
   "source": [
    "hue_purple = matplotlib.colors.rgb_to_hsv(purple)[:,:,0]\n",
    "sat_purple = matplotlib.colors.rgb_to_hsv(purple)[:,:,1]\n",
    "mask_purple = ~np.logical_and(np.logical_and(purple[:,:,0]==0, purple[:,:,1]==0),purple[:,:,2]==0)\n",
    "mask_purple = np.logical_and(mask_purple,sat_purple>0.3)"
   ]
  },
  {
   "cell_type": "code",
   "execution_count": 331,
   "metadata": {},
   "outputs": [],
   "source": [
    "hue_white = matplotlib.colors.rgb_to_hsv(white)[:,:,0]\n",
    "sat_white = matplotlib.colors.rgb_to_hsv(white)[:,:,1]\n",
    "mask_white = ~np.logical_and(np.logical_and(white[:,:,0]==0, white[:,:,1]==0),white[:,:,2]==0)\n",
    "mask_white = np.logical_and(mask_white,sat_white>0.3)"
   ]
  },
  {
   "cell_type": "code",
   "execution_count": null,
   "metadata": {},
   "outputs": [],
   "source": [
    "hue = matplotlib.colors.rgb_to_hsv(img)[:,:,0]\n",
    "sat = matplotlib.colors.rgb_to_hsv(img)[:,:,1]"
   ]
  },
  {
   "cell_type": "code",
   "execution_count": 4,
   "metadata": {},
   "outputs": [
    {
     "ename": "NameError",
     "evalue": "name 'np' is not defined",
     "output_type": "error",
     "traceback": [
      "\u001b[1;31m---------------------------------------------------------------------------\u001b[0m",
      "\u001b[1;31mNameError\u001b[0m                                 Traceback (most recent call last)",
      "\u001b[1;32m<ipython-input-4-da14c88fa0b6>\u001b[0m in \u001b[0;36m<module>\u001b[1;34m\u001b[0m\n\u001b[1;32m----> 1\u001b[1;33m \u001b[0mbins\u001b[0m \u001b[1;33m=\u001b[0m \u001b[0mnp\u001b[0m\u001b[1;33m.\u001b[0m\u001b[0mlinspace\u001b[0m\u001b[1;33m(\u001b[0m\u001b[1;36m0\u001b[0m\u001b[1;33m,\u001b[0m\u001b[1;36m1\u001b[0m\u001b[1;33m,\u001b[0m\u001b[1;36m100\u001b[0m\u001b[1;33m)\u001b[0m\u001b[1;33m\u001b[0m\u001b[0m\n\u001b[0m\u001b[0;32m      2\u001b[0m \u001b[1;33m\u001b[0m\u001b[0m\n\u001b[0;32m      3\u001b[0m \u001b[0mhist_hue_purple\u001b[0m \u001b[1;33m=\u001b[0m \u001b[0mnp\u001b[0m\u001b[1;33m.\u001b[0m\u001b[0mhistogram\u001b[0m\u001b[1;33m(\u001b[0m\u001b[0mhue_purple\u001b[0m\u001b[1;33m[\u001b[0m\u001b[0mmask_purple\u001b[0m\u001b[1;33m]\u001b[0m\u001b[1;33m,\u001b[0m\u001b[0mbins\u001b[0m\u001b[1;33m=\u001b[0m\u001b[0mbins\u001b[0m\u001b[1;33m,\u001b[0m \u001b[0mweights\u001b[0m\u001b[1;33m=\u001b[0m\u001b[0msat_purple\u001b[0m\u001b[1;33m[\u001b[0m\u001b[0mmask_purple\u001b[0m\u001b[1;33m]\u001b[0m\u001b[1;33m)\u001b[0m\u001b[1;33m\u001b[0m\u001b[0m\n\u001b[0;32m      4\u001b[0m \u001b[0mhist_hue_white\u001b[0m \u001b[1;33m=\u001b[0m \u001b[0mnp\u001b[0m\u001b[1;33m.\u001b[0m\u001b[0mhistogram\u001b[0m\u001b[1;33m(\u001b[0m\u001b[0mhue_white\u001b[0m\u001b[1;33m[\u001b[0m\u001b[0mmask_white\u001b[0m\u001b[1;33m]\u001b[0m\u001b[1;33m,\u001b[0m\u001b[0mbins\u001b[0m\u001b[1;33m=\u001b[0m\u001b[0mbins\u001b[0m\u001b[1;33m,\u001b[0m\u001b[0mweights\u001b[0m\u001b[1;33m=\u001b[0m\u001b[0msat_white\u001b[0m\u001b[1;33m[\u001b[0m\u001b[0mmask_white\u001b[0m\u001b[1;33m]\u001b[0m\u001b[1;33m)\u001b[0m\u001b[1;33m\u001b[0m\u001b[0m\n\u001b[0;32m      5\u001b[0m \u001b[1;33m\u001b[0m\u001b[0m\n",
      "\u001b[1;31mNameError\u001b[0m: name 'np' is not defined"
     ]
    }
   ],
   "source": [
    "bins = np.linspace(0,1,100)\n",
    "\n",
    "hist_hue_purple = np.histogram(hue_purple[mask_purple],bins=bins, weights=sat_purple[mask_purple])\n",
    "hist_hue_white = np.histogram(hue_white[mask_white],bins=bins,weights=sat_white[mask_white])\n",
    "\n",
    "fig, ax = plt.subplots(2,1,figsize=(14,10))\n",
    "ax[0].set_title(\"Hue\")\n",
    "ax[0].plot(bins[:-1],hist_hue_purple[0])\n",
    "ax[0].plot(bins[:-1],hist_hue_white[0])\n",
    "ax[0].legend(\"purple\", \"white\")\n",
    "\n",
    "\n",
    "plt.imshow([np.linspace(0, 1, 256)], aspect='auto', cmap=plt.get_cmap(\"hsv\"))"
   ]
  },
  {
   "cell_type": "code",
   "execution_count": 77,
   "metadata": {},
   "outputs": [
    {
     "data": {
      "text/plain": [
       "<matplotlib.image.AxesImage at 0x7f7ea2631860>"
      ]
     },
     "execution_count": 77,
     "metadata": {},
     "output_type": "execute_result"
    },
    {
     "data": {
      "image/png": "[encoded data removed]",
      "text/plain": [
       "<Figure size 1008x720 with 4 Axes>"
      ]
     },
     "metadata": {
      "needs_background": "light"
     },
     "output_type": "display_data"
    }
   ],
   "source": [
    "bins = np.linspace(0,1,100)\n",
    "\n",
    "\n",
    "#not so interesting: Which saturation level is most common? Don't care. Wanna know about saturation of certain hue\n",
    "#hist_sat_purple = np.histogram(sat_purple[mask_purple],density=True,bins=bins)\n",
    "#hist_sat_white = np.histogram(sat_white[mask_white],density=True,bins=bins)\n",
    "\n",
    "\n",
    "hist_hue_purple = np.histogram(hue_purple[mask_purple],density=True,bins=bins)\n",
    "hist_hue_white = np.histogram(hue_white[mask_white],density=True,bins=bins)\n",
    "\n",
    "hist_sat_purple = np.histogram(sat_purple[mask_purple],density=True,bins=bins)\n",
    "hist_sat_white = np.histogram(sat_white[mask_white],density=True,bins=bins)\n",
    "\n",
    "\n",
    "\n",
    "fig, ax = plt.subplots(4,1,figsize=(14,10))\n",
    "ax[0].set_title(\"Hue\")\n",
    "ax[0].plot(bins[:-1],hist_hue_purple[0])\n",
    "ax[0].plot(bins[:-1],hist_hue_white[0])\n",
    "\n",
    "ax[1].set_title(\"Saturation\")\n",
    "ax[1].plot(bins[:-1],hist_sat_purple[0])\n",
    "ax[1].plot(bins[:-1],hist_sat_white[0])\n",
    "\n",
    "ax[2].set_title(\"Hue x Saturation\")\n",
    "ax[2].plot(bins[:-1],hist_sat_purple[0]*hist_hue_purple[0])\n",
    "ax[2].plot(bins[:-1],hist_sat_white[0]*hist_hue_white[0])\n",
    "\n",
    "plt.imshow([np.linspace(0, 1, 256)], aspect='auto', cmap=plt.get_cmap(\"hsv\"))"
   ]
  },
  {
   "cell_type": "code",
   "execution_count": null,
   "metadata": {},
   "outputs": [],
   "source": []
  }
 ],
 "metadata": {
  "kernelspec": {
   "display_name": "Python 3",
   "language": "python",
   "name": "python3"
  },
  "language_info": {
   "codemirror_mode": {
    "name": "ipython",
    "version": 3
   },
   "file_extension": ".py",
   "mimetype": "text/x-python",
   "name": "python",
   "nbconvert_exporter": "python",
   "pygments_lexer": "ipython3",
   "version": "3.6.6"
  }
 },
 "nbformat": 4,
 "nbformat_minor": 2
}
