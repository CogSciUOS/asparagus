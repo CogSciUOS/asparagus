{
 "cells": [
  {
   "cell_type": "code",
   "execution_count": 15,
   "metadata": {},
   "outputs": [],
   "source": [
    "import numpy as np\n",
    "import matplotlib.pyplot as plt\n",
    "import os\n",
    "from scipy.ndimage.morphology import binary_opening, binary_closing, binary_hit_or_miss\n",
    "from scipy.ndimage import label, find_objects\n",
    "import matplotlib\n",
    "import time\n",
    "import sys\n",
    "from skimage.measure import label, regionprops"
   ]
  },
  {
   "cell_type": "code",
   "execution_count": 193,
   "metadata": {},
   "outputs": [
    {
     "data": {
      "text/plain": [
       "<matplotlib.image.AxesImage at 0x1404a3dfbe0>"
      ]
     },
     "execution_count": 193,
     "metadata": {},
     "output_type": "execute_result"
    },
    {
     "data": {
      "image/png": "[encoded data removed]",
      "text/plain": [
       "<Figure size 432x288 with 1 Axes>"
      ]
     },
     "metadata": {
      "needs_background": "light"
     },
     "output_type": "display_data"
    }
   ],
   "source": [
    "img = plt.imread(\"C:/Users/Sophia/Documents/GitHub/asparagus/rust_selected/new_prepro/7_2.jpg\")\n",
    "plt.imshow(img)"
   ]
  },
  {
   "cell_type": "code",
   "execution_count": 194,
   "metadata": {},
   "outputs": [],
   "source": [
    "# to get the mask of the image with which the background was removed, use the functions from the preprocessor\n",
    "def mask_img(img):\n",
    "    \"\"\"\n",
    "    Finds asparagus in an image and returns a mask that is 1 for every pixel which belongs\n",
    "    to an asparagus piece and 0 everywhere else. \n",
    "    \n",
    "    img = the image after running segmentation based on color\n",
    "    \n",
    "    returns: mask as described above\n",
    "    \"\"\"\n",
    "    img = np.array(img)\n",
    "\n",
    "    def binarize(img, thres):\n",
    "        res = np.sum(img,axis=2) > thres\n",
    "        return res.astype(int)\n",
    "\n",
    "    bin_img = binarize(img, 10)\n",
    "    \n",
    "    def find_largest_region(binary_img):\n",
    "        \"\"\"\n",
    "        Finds the largest continuous region in a binary image\n",
    "        (which hopefully is the asparagus piece)\n",
    "        \n",
    "        binary_img = a binary image with patches of different sizes\n",
    "        \n",
    "        returns: essentially a mask\n",
    "        \"\"\"\n",
    "        labeled_img = label(bin_img)\n",
    "        props = regionprops(labeled_img)\n",
    "        maxi = 0\n",
    "        maxval = 0\n",
    "        for i, prop in enumerate(props):\n",
    "            if prop.area > maxval:\n",
    "                maxi = i\n",
    "                maxval = prop.area\n",
    "\n",
    "        proppy = props[maxi]\n",
    "        coords = proppy.coords # 2d np array\n",
    "        empty = np.zeros(bin_img.shape)\n",
    "        for i in range(len(coords)):\n",
    "            empty[coords[i,0], coords[i,1]] = 1\n",
    "        return empty\n",
    "    \n",
    "    # find largest region, open the image, and find the largest region\n",
    "    # once again, because the opening might just have created a small\n",
    "    # \"island\" instead of completely removing the noise\n",
    "    empty = find_largest_region(bin_img)\n",
    "    empty = binary_opening(empty, structure=np.ones((21,21)))\n",
    "    empty = find_largest_region(empty)\n",
    "    \n",
    "    return empty\n",
    "def cut_background(img, background_min_hue, background_max_hue, background_brightness):\n",
    "    \"\"\" Initiates masking in the hsv space.\n",
    "\n",
    "    Cuts out background with specific hue values.\n",
    "\n",
    "    Args:\n",
    "        img (Image): Image as numpy array\n",
    "        background_max_hue (float): [0-255] \n",
    "        background_min_hue (float): [0-255] \n",
    "        background_brightness (float): [0-255] \n",
    "\n",
    "    Returns:\n",
    "        Image: Image without background \n",
    "    \"\"\"\n",
    "    \n",
    "    # Open Image\n",
    "    raw = np.array(img)\n",
    "    # remove alpha-channel (only if its RGBA)\n",
    "    raw = raw[:,:,0:3]\n",
    "    # transform to HSV color space\n",
    "    hsv = matplotlib.colors.rgb_to_hsv(raw)\n",
    "    # Mask all blue hues (background)\n",
    "    mask = np.logical_and(hsv[:,:,0] > background_min_hue , hsv[:,:,0] < background_max_hue)\n",
    "    \n",
    "    # Mask out values that are not bright enough\n",
    "    mask = np.logical_or(hsv[:,:,2] < background_brightness, mask)\n",
    "    #Use binary hit and miss to remove potentially remaining isolated pixels:\n",
    "    m = np.logical_not(mask)\n",
    "\n",
    "    change = 1\n",
    "    while(change > 0):\n",
    "        a = binary_hit_or_miss(m, [[ 0, -1,  0]]) + binary_hit_or_miss(m, np.array([[ 0, -1,  0]]).T)\n",
    "        m[a] = False\n",
    "        change = np.sum(a)\n",
    "        # plt.imshow(a) # printf(changes)\n",
    "    \n",
    "    mask = np.logical_not(m)\n",
    "    raw[:,:,0][mask] = 0\n",
    "    raw[:,:,1][mask] = 0\n",
    "    raw[:,:,2][mask] = 0\n",
    "\n",
    "\n",
    "    return mask, raw"
   ]
  },
  {
   "cell_type": "code",
   "execution_count": 195,
   "metadata": {},
   "outputs": [],
   "source": [
    "# get the mask to determine where the asparagus is located\n",
    "mask, color_seg_result = cut_background(img, 0.4, 0.8, 50)\n",
    "mask = mask_img(color_seg_result)\n",
    "# turn our mask into a color mask\n",
    "cmask = np.stack([mask, mask, mask], axis=2)"
   ]
  },
  {
   "cell_type": "code",
   "execution_count": 196,
   "metadata": {
    "scrolled": true
   },
   "outputs": [
    {
     "data": {
      "image/png": "[encoded data removed]",
      "text/plain": [
       "<Figure size 432x288 with 1 Axes>"
      ]
     },
     "metadata": {
      "needs_background": "light"
     },
     "output_type": "display_data"
    }
   ],
   "source": [
    "hist,bins = np.histogram(img.ravel(),256,[0,256])\n",
    "plt.hist(img[:,:,2].ravel(),256,[0,256]); plt.show()"
   ]
  },
  {
   "cell_type": "code",
   "execution_count": 197,
   "metadata": {},
   "outputs": [],
   "source": [
    "# set the lower und upper bound for \"rusty-colours\"\n",
    "# TODO: find better upper and lower bounds\n",
    "lower = np.array([50,42,31])\n",
    "upper = np.array([220,220,55])"
   ]
  },
  {
   "cell_type": "code",
   "execution_count": 198,
   "metadata": {},
   "outputs": [],
   "source": [
    "import cv2\n",
    "rust_mask = cv2.inRange(img, lower, upper)\n",
    "output = cv2.bitwise_and(img, img, mask = rust_mask)"
   ]
  },
  {
   "cell_type": "code",
   "execution_count": 199,
   "metadata": {},
   "outputs": [
    {
     "data": {
      "text/plain": [
       "<matplotlib.image.AxesImage at 0x1404ccbc710>"
      ]
     },
     "execution_count": 199,
     "metadata": {},
     "output_type": "execute_result"
    },
    {
     "data": {
      "image/png": "[encoded data removed]",
      "text/plain": [
       "<Figure size 432x288 with 1 Axes>"
      ]
     },
     "metadata": {
      "needs_background": "light"
     },
     "output_type": "display_data"
    }
   ],
   "source": [
    "plt.imshow(output)"
   ]
  },
  {
   "cell_type": "code",
   "execution_count": 200,
   "metadata": {},
   "outputs": [
    {
     "name": "stdout",
     "output_type": "stream",
     "text": [
      "2448\n"
     ]
    }
   ],
   "source": [
    "count = np.count_nonzero(output)\n",
    "print(count)"
   ]
  },
  {
   "cell_type": "code",
   "execution_count": 184,
   "metadata": {},
   "outputs": [
    {
     "name": "stdout",
     "output_type": "stream",
     "text": [
      "15957\n"
     ]
    }
   ],
   "source": []
  },
  {
   "cell_type": "code",
   "execution_count": 175,
   "metadata": {},
   "outputs": [
    {
     "data": {
      "text/plain": [
       "1560000"
      ]
     },
     "execution_count": 175,
     "metadata": {},
     "output_type": "execute_result"
    }
   ],
   "source": []
  },
  {
   "cell_type": "code",
   "execution_count": null,
   "metadata": {},
   "outputs": [],
   "source": []
  }
 ],
 "metadata": {
  "kernelspec": {
   "display_name": "Python 3",
   "language": "python",
   "name": "python3"
  },
  "language_info": {
   "codemirror_mode": {
    "name": "ipython",
    "version": 3
   },
   "file_extension": ".py",
   "mimetype": "text/x-python",
   "name": "python",
   "nbconvert_exporter": "python",
   "pygments_lexer": "ipython3",
   "version": "3.6.7"
  }
 },
 "nbformat": 4,
 "nbformat_minor": 2
}
