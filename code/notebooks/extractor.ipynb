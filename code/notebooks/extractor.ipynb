{
 "cells": [
  {
   "cell_type": "markdown",
   "metadata": {},
   "source": [
    "# Extractor\n",
    "\n",
    "This file only removes junk data: Two thirds of our images are redundant. So, this script walks over a raw data folder, compares a new file to the two old ones it has memorized, if there is no match it moves the file over to the target folder and replaces the oldest image in its memory by this one. \n",
    "\n",
    "Be extremely careful with this tool, as it deletes raw data. This is the red button, don't push it\n"
   ]
  },
  {
   "cell_type": "code",
   "execution_count": 4,
   "metadata": {},
   "outputs": [],
   "source": [
    "import numpy as np\n",
    "import matplotlib.pyplot as plt\n",
    "import os"
   ]
  },
  {
   "cell_type": "code",
   "execution_count": 5,
   "metadata": {},
   "outputs": [],
   "source": [
    "raw_path = \"raw_data/\"\n",
    "target_path = \"preprocessing_images/\"\n",
    "\n",
    "if not os.path.exists(target_path):\n",
    "    os.makedirs(target_path)"
   ]
  },
  {
   "cell_type": "code",
   "execution_count": 9,
   "metadata": {
    "scrolled": false
   },
   "outputs": [],
   "source": [
    "for subdir, dirs, files in os.walk(raw_path):\n",
    "    files = sorted([f for f in files if not f[0] == '.'])\n",
    "    os.rename(os.path.join(raw_path,files[0]), os.path.join(target_path,files[0]))\n",
    "    os.rename(os.path.join(raw_path,files[1]), os.path.join(target_path,files[1]))\n",
    "    older = plt.imread(os.path.join(raw_path,files[0]))\n",
    "    old = plt.imread(os.path.join(raw_path,files[1]))\n",
    "    for file in files[2:]:\n",
    "        img = plt.imread(os.path.join(raw_path,file))\n",
    "        if( not np.array_equal(img, older) and not np.array_equal(img, old) ):\n",
    "            os.rename(os.path.join(raw_path,file), os.path.join(target_path,file))\n",
    "            older = old\n",
    "            old = img"
   ]
  },
  {
   "cell_type": "code",
   "execution_count": null,
   "metadata": {},
   "outputs": [],
   "source": []
  }
 ],
 "metadata": {
  "kernelspec": {
   "display_name": "Python 3",
   "language": "python",
   "name": "python3"
  },
  "language_info": {
   "codemirror_mode": {
    "name": "ipython",
    "version": 3
   },
   "file_extension": ".py",
   "mimetype": "text/x-python",
   "name": "python",
   "nbconvert_exporter": "python",
   "pygments_lexer": "ipython3",
   "version": "3.6.6"
  }
 },
 "nbformat": 4,
 "nbformat_minor": 2
}
